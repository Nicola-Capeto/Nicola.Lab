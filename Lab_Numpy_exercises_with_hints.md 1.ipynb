{
 "cells": [
  {
   "cell_type": "markdown",
   "id": "6a57b803",
   "metadata": {},
   "source": [
    "\n",
    "\n",
    "# numpy exercises\n",
    "\n",
    "This is a collection of exercises that have been collected in the numpy mailing list, on stack overflow\n",
    "and in the numpy documentation. The goal of this collection is to offer a quick reference for both old\n",
    "and new users but also to provide a set of exercises for those who teach.\n",
    "\n",
    "\n",
    "If you find an error or think you've a better way to solve some of them, feel\n",
    "free to open an issue at <https://github.com/rougier/numpy-100>.\n",
    "File automatically generated. See the documentation to update questions/answers/hints programmatically.\n",
    "\n",
    "#### 1. Import the numpy package under the name `np` (★☆☆)\n",
    "`hint: import … as`\n",
    "\n",
    "#### 2. Create a null vector of size 10 (★☆☆)\n",
    "`hint: np.zeros`\n",
    "\n",
    "#### 3. Create a null vector of size 10 but the fifth value which is 1 (★☆☆)\n",
    "`hint: array[4]`\n",
    "\n",
    "#### 4. Create a vector with values ranging from 10 to 49 (★☆☆)\n",
    "`hint: arange`\n",
    "\n",
    "#### 5. Create a 3x3 matrix with values ranging from 0 to 8 (★☆☆)\n",
    "`hint: reshape`\n",
    "\n",
    "#### 6. Find indices of non-zero elements from [1,2,0,0,4,0] (★☆☆)\n",
    "`hint: np.nonzero`\n",
    "\n",
    "#### 7. Create a 3x3 identity matrix (★☆☆)\n",
    "`hint: np.eye`\n",
    "\n",
    "#### 8. Create a 3x3x3 array with random values (★☆☆)\n",
    "`hint: np.random.random`\n",
    "\n",
    "#### 9. Create a 10x10 array with random values and find the minimum and maximum values (★☆☆)\n",
    "`hint: min, max`\n",
    "\n",
    "#### 10. Create a random vector of size 30 and find the mean value (★☆☆)\n",
    "`hint: mean`\n",
    "\n",
    "#### 11. Create a 5x5 matrix with values 1,2,3,4 just below the diagonal (★☆☆)\n",
    "`hint: np.diag`\n",
    "\n",
    "#### 12. Normalize a 5x5 random matrix (★☆☆)\n",
    "`hint: (x -mean)/std`\n",
    "\n",
    "#### 13. How to find common values between two arrays? (★☆☆)\n",
    "`hint: np.intersect1d`\n",
    "\n",
    "#### 14. Create a random vector of size 10 and sort it (★★☆)\n",
    "`hint: sort`\n",
    "\n",
    "#### 15. Create random vector of size 10 and replace the maximum value by 0 (★★☆)\n",
    "`hint: argmax`\n",
    "\n",
    "#### 16. Subtract the mean of each row of a matrix (★★☆)\n",
    "`hint: mean(axis=,keepdims=)`\n",
    "\n",
    "#### 17. How to get the n largest values of an array (★★★)\n",
    "`Z = np.arange(10000)\n",
    "np.random.shuffle(Z)\n",
    "n = 5\n",
    "hint: np.argsort | np.argpartition`\n",
    "\n",
    "#### 18. Create a random 5*3 matrix and replace items that are larger than 4 by their squares ( Example:  6 --> 36) \n",
    "`hint: np.where`"
   ]
  },
  {
   "cell_type": "code",
   "execution_count": 1,
   "id": "c7b72a7e",
   "metadata": {},
   "outputs": [],
   "source": [
    "import numpy as np"
   ]
  },
  {
   "cell_type": "code",
   "execution_count": 4,
   "id": "66ca8d15",
   "metadata": {},
   "outputs": [],
   "source": [
    "x = np.zeros(10)"
   ]
  },
  {
   "cell_type": "code",
   "execution_count": 5,
   "id": "36214cd2",
   "metadata": {},
   "outputs": [
    {
     "data": {
      "text/plain": [
       "array([0., 0., 0., 0., 0., 0., 0., 0., 0., 0.])"
      ]
     },
     "execution_count": 5,
     "metadata": {},
     "output_type": "execute_result"
    }
   ],
   "source": [
    "x"
   ]
  },
  {
   "cell_type": "code",
   "execution_count": 16,
   "id": "8f5e0204",
   "metadata": {},
   "outputs": [],
   "source": [
    "y = np.zeros(10)\n",
    "y[4]=1"
   ]
  },
  {
   "cell_type": "code",
   "execution_count": 17,
   "id": "d78d1f7a",
   "metadata": {},
   "outputs": [
    {
     "data": {
      "text/plain": [
       "array([0., 0., 0., 0., 1., 0., 0., 0., 0., 0.])"
      ]
     },
     "execution_count": 17,
     "metadata": {},
     "output_type": "execute_result"
    }
   ],
   "source": [
    "y"
   ]
  },
  {
   "cell_type": "code",
   "execution_count": 18,
   "id": "d5d69643",
   "metadata": {},
   "outputs": [],
   "source": [
    "a = np.arange(10,49)"
   ]
  },
  {
   "cell_type": "code",
   "execution_count": 19,
   "id": "659ef73b",
   "metadata": {},
   "outputs": [
    {
     "data": {
      "text/plain": [
       "array([10, 11, 12, 13, 14, 15, 16, 17, 18, 19, 20, 21, 22, 23, 24, 25, 26,\n",
       "       27, 28, 29, 30, 31, 32, 33, 34, 35, 36, 37, 38, 39, 40, 41, 42, 43,\n",
       "       44, 45, 46, 47, 48])"
      ]
     },
     "execution_count": 19,
     "metadata": {},
     "output_type": "execute_result"
    }
   ],
   "source": [
    "a"
   ]
  },
  {
   "cell_type": "code",
   "execution_count": 29,
   "id": "06cede56",
   "metadata": {},
   "outputs": [],
   "source": [
    "b = np.arange(0, 9).reshape((3, 3))"
   ]
  },
  {
   "cell_type": "code",
   "execution_count": 30,
   "id": "cc87d8af",
   "metadata": {},
   "outputs": [
    {
     "data": {
      "text/plain": [
       "array([[0, 1, 2],\n",
       "       [3, 4, 5],\n",
       "       [6, 7, 8]])"
      ]
     },
     "execution_count": 30,
     "metadata": {},
     "output_type": "execute_result"
    }
   ],
   "source": [
    "b"
   ]
  },
  {
   "cell_type": "code",
   "execution_count": 38,
   "id": "777ecefc",
   "metadata": {},
   "outputs": [
    {
     "name": "stdout",
     "output_type": "stream",
     "text": [
      "(array([0, 1, 4]),)\n"
     ]
    }
   ],
   "source": [
    "b = [1,2,0,0,4,0]\n",
    "b = np.nonzero(b)\n",
    "print(b)\n"
   ]
  },
  {
   "cell_type": "code",
   "execution_count": 39,
   "id": "04f1453f",
   "metadata": {},
   "outputs": [
    {
     "data": {
      "text/plain": [
       "array([[1., 0., 0.],\n",
       "       [0., 1., 0.],\n",
       "       [0., 0., 1.]])"
      ]
     },
     "execution_count": 39,
     "metadata": {},
     "output_type": "execute_result"
    }
   ],
   "source": [
    "c = np.eye(3,3)\n",
    "c"
   ]
  },
  {
   "cell_type": "code",
   "execution_count": 41,
   "id": "73210b21",
   "metadata": {},
   "outputs": [
    {
     "data": {
      "text/plain": [
       "array([[[0.76788745, 0.94176318, 0.02266261],\n",
       "        [0.61263548, 0.94228647, 0.12738639],\n",
       "        [0.48829633, 0.62113435, 0.83169407]],\n",
       "\n",
       "       [[0.039614  , 0.69219475, 0.4798604 ],\n",
       "        [0.03186418, 0.18987679, 0.70097871],\n",
       "        [0.47206418, 0.10938974, 0.31769621]],\n",
       "\n",
       "       [[0.56140775, 0.74962999, 0.30653998],\n",
       "        [0.05607295, 0.61444054, 0.56693644],\n",
       "        [0.81851982, 0.32849869, 0.63270712]]])"
      ]
     },
     "execution_count": 41,
     "metadata": {},
     "output_type": "execute_result"
    }
   ],
   "source": [
    "d = np.random.random((3, 3, 3))\n",
    "d"
   ]
  },
  {
   "cell_type": "code",
   "execution_count": 71,
   "id": "3898bd85",
   "metadata": {},
   "outputs": [
    {
     "data": {
      "text/plain": [
       "array([[0.50913312, 0.34350414, 0.7964086 , 0.12144467, 0.01700206,\n",
       "        0.16482913, 0.77666367, 0.34174539, 0.20486402, 0.45984957],\n",
       "       [0.76216492, 0.54898103, 0.29829349, 0.07464433, 0.84821667,\n",
       "        0.3003174 , 0.36487155, 0.81383462, 0.6394039 , 0.04622653],\n",
       "       [0.47610172, 0.49740812, 0.7397242 , 0.47599919, 0.41299674,\n",
       "        0.6340571 , 0.9939849 , 0.2984719 , 0.13068016, 0.94764754],\n",
       "       [0.08540347, 0.38033208, 0.79123694, 0.89640523, 0.05468717,\n",
       "        0.7952179 , 0.02758104, 0.00510751, 0.92871329, 0.23412156],\n",
       "       [0.46900434, 0.70290689, 0.24186259, 0.26816928, 0.05510665,\n",
       "        0.75878125, 0.13855198, 0.16244016, 0.18293581, 0.28396144],\n",
       "       [0.47741365, 0.31964827, 0.38282611, 0.53259314, 0.5276881 ,\n",
       "        0.28730553, 0.84375364, 0.05351352, 0.92302061, 0.31377639],\n",
       "       [0.20363536, 0.23301869, 0.79220697, 0.7781381 , 0.27265765,\n",
       "        0.95855923, 0.89932832, 0.21212482, 0.868796  , 0.08857223],\n",
       "       [0.68974978, 0.1662138 , 0.83143934, 0.06662199, 0.61648596,\n",
       "        0.00129617, 0.97478378, 0.01663343, 0.7086378 , 0.69674604],\n",
       "       [0.51453367, 0.80946427, 0.19370264, 0.25135639, 0.77244789,\n",
       "        0.31769119, 0.34256364, 0.93745289, 0.11661814, 0.99869704],\n",
       "       [0.32536334, 0.82903077, 0.81483578, 0.91129066, 0.41602205,\n",
       "        0.62921289, 0.92919722, 0.43110356, 0.91352276, 0.40622221]])"
      ]
     },
     "execution_count": 71,
     "metadata": {},
     "output_type": "execute_result"
    }
   ],
   "source": [
    "e = np.random.random((10, 10))\n",
    "e"
   ]
  },
  {
   "cell_type": "code",
   "execution_count": 73,
   "id": "593ae242",
   "metadata": {},
   "outputs": [
    {
     "name": "stdout",
     "output_type": "stream",
     "text": [
      "0.998697042660289\n"
     ]
    }
   ],
   "source": [
    "e_max = np.max(e)\n",
    "print(e_max)"
   ]
  },
  {
   "cell_type": "code",
   "execution_count": 74,
   "id": "cf89c950",
   "metadata": {},
   "outputs": [
    {
     "name": "stdout",
     "output_type": "stream",
     "text": [
      "0.0012961679443570517\n"
     ]
    }
   ],
   "source": [
    "e_min = np.min(e)\n",
    "print(e_min)"
   ]
  },
  {
   "cell_type": "code",
   "execution_count": 76,
   "id": "54f69b11",
   "metadata": {},
   "outputs": [
    {
     "data": {
      "text/plain": [
       "array([0.56781534, 0.48888058, 0.71737879, 0.71971809, 0.83498896,\n",
       "       0.84251321, 0.90261063, 0.14471746, 0.75343698, 0.83755669,\n",
       "       0.50852972, 0.23269101, 0.25713609, 0.54840276, 0.21375081,\n",
       "       0.94312376, 0.05735756, 0.69479444, 0.83450931, 0.59076999,\n",
       "       0.7037585 , 0.72644735, 0.93477919, 0.92724311, 0.67871225,\n",
       "       0.67620571, 0.66860086, 0.63374045, 0.65866394, 0.98604308])"
      ]
     },
     "execution_count": 76,
     "metadata": {},
     "output_type": "execute_result"
    }
   ],
   "source": [
    "f = np.random.random(30)\n",
    "f"
   ]
  },
  {
   "cell_type": "code",
   "execution_count": 77,
   "id": "a8396aea",
   "metadata": {},
   "outputs": [
    {
     "name": "stdout",
     "output_type": "stream",
     "text": [
      "0.6428292205399182\n"
     ]
    }
   ],
   "source": [
    "f_mean = np.mean(f)\n",
    "print(f_mean)"
   ]
  },
  {
   "cell_type": "code",
   "execution_count": 123,
   "id": "b42706da",
   "metadata": {},
   "outputs": [
    {
     "data": {
      "text/plain": [
       "array([[0, 0, 0, 0, 0],\n",
       "       [1, 0, 0, 0, 0],\n",
       "       [0, 2, 0, 0, 0],\n",
       "       [0, 0, 3, 0, 0],\n",
       "       [0, 0, 0, 4, 0]])"
      ]
     },
     "execution_count": 123,
     "metadata": {},
     "output_type": "execute_result"
    }
   ],
   "source": [
    "g = np.diag(1 + np.arange(4), k = -1)\n",
    "g"
   ]
  },
  {
   "cell_type": "code",
   "execution_count": 90,
   "id": "4b03c5ff",
   "metadata": {},
   "outputs": [
    {
     "name": "stdout",
     "output_type": "stream",
     "text": [
      "[[1.         0.37125324 0.03687619 0.80406606 0.14152867]\n",
      " [0.61597652 0.16234718 0.         0.25560783 0.76039583]\n",
      " [0.78811705 0.67019929 0.95382271 0.1225176  0.09207691]\n",
      " [0.37946777 0.88194106 0.0472166  0.1771801  0.95029391]\n",
      " [0.46023966 0.04979521 0.9010879  0.33495531 0.00173319]]\n"
     ]
    }
   ],
   "source": [
    "h= np.random.random((5,5))\n",
    "\n",
    "hmax, hmin = h.max(), h.min()\n",
    "h= (h-hmin)/(hmax-hmin)\n",
    "print (h)"
   ]
  },
  {
   "cell_type": "code",
   "execution_count": 97,
   "id": "41ed2374",
   "metadata": {},
   "outputs": [
    {
     "data": {
      "text/plain": [
       "array([1, 3])"
      ]
     },
     "execution_count": 97,
     "metadata": {},
     "output_type": "execute_result"
    }
   ],
   "source": [
    "i = np.intersect1d([1, 3, 4, 3], [3, 1, 2, 1])\n",
    "i\n"
   ]
  },
  {
   "cell_type": "code",
   "execution_count": 100,
   "id": "591dc114",
   "metadata": {},
   "outputs": [
    {
     "data": {
      "text/plain": [
       "array([0.26130476, 0.53644146, 0.57930483, 0.78108895, 0.91064745])"
      ]
     },
     "execution_count": 100,
     "metadata": {},
     "output_type": "execute_result"
    }
   ],
   "source": [
    "l = np.random.random(5)\n",
    "l_1 = np.sort(l)\n",
    "\n",
    "l_1\n",
    "\n"
   ]
  },
  {
   "cell_type": "code",
   "execution_count": 102,
   "id": "71253e3b",
   "metadata": {},
   "outputs": [
    {
     "data": {
      "text/plain": [
       "array([0.68480816, 0.54216974, 0.48904167, 0.09899511, 0.71270397,\n",
       "       0.60073673, 0.55767785, 0.49392216, 0.94632902, 0.87690273])"
      ]
     },
     "execution_count": 102,
     "metadata": {},
     "output_type": "execute_result"
    }
   ],
   "source": [
    "m = np.random.random(10)\n",
    "m"
   ]
  },
  {
   "cell_type": "code",
   "execution_count": 106,
   "id": "a8b5a487",
   "metadata": {},
   "outputs": [
    {
     "name": "stdout",
     "output_type": "stream",
     "text": [
      "[0.97207619 0.67999416 0.47263926 0.         0.22684157 0.79980704\n",
      " 0.61823193 0.49127268 0.31397385 0.95737307]\n"
     ]
    }
   ],
   "source": [
    "Z = np.random.random(10)\n",
    "Z[Z.argmax()] = 0\n",
    "print(Z)"
   ]
  },
  {
   "cell_type": "code",
   "execution_count": 120,
   "id": "6cbb1f85",
   "metadata": {},
   "outputs": [
    {
     "data": {
      "text/plain": [
       "matrix([[1, 2, 3],\n",
       "        [4, 5, 6],\n",
       "        [7, 8, 9]])"
      ]
     },
     "execution_count": 120,
     "metadata": {},
     "output_type": "execute_result"
    }
   ],
   "source": [
    "n = np.matrix([[1, 2, 3], [4, 5, 6],[7, 8, 9]])\n",
    "n"
   ]
  },
  {
   "cell_type": "code",
   "execution_count": 121,
   "id": "295988b7",
   "metadata": {},
   "outputs": [
    {
     "data": {
      "text/plain": [
       "matrix([[-1.,  0.,  1.],\n",
       "        [-1.,  0.,  1.],\n",
       "        [-1.,  0.,  1.]])"
      ]
     },
     "execution_count": 121,
     "metadata": {},
     "output_type": "execute_result"
    }
   ],
   "source": [
    "o = n - n.mean(axis=1).reshape(-1, 1)\n",
    "o"
   ]
  },
  {
   "cell_type": "code",
   "execution_count": 124,
   "id": "29a77b7d",
   "metadata": {},
   "outputs": [
    {
     "data": {
      "text/plain": [
       "array([   0,    1,    2, ..., 9997, 9998, 9999])"
      ]
     },
     "execution_count": 124,
     "metadata": {},
     "output_type": "execute_result"
    }
   ],
   "source": [
    "p = np.arange(10000)\n",
    "p"
   ]
  },
  {
   "cell_type": "code",
   "execution_count": null,
   "id": "dee9b812",
   "metadata": {},
   "outputs": [],
   "source": []
  },
  {
   "cell_type": "code",
   "execution_count": null,
   "id": "05b9def3",
   "metadata": {},
   "outputs": [],
   "source": []
  }
 ],
 "metadata": {
  "kernelspec": {
   "display_name": "Python 3 (ipykernel)",
   "language": "python",
   "name": "python3"
  },
  "language_info": {
   "codemirror_mode": {
    "name": "ipython",
    "version": 3
   },
   "file_extension": ".py",
   "mimetype": "text/x-python",
   "name": "python",
   "nbconvert_exporter": "python",
   "pygments_lexer": "ipython3",
   "version": "3.9.12"
  }
 },
 "nbformat": 4,
 "nbformat_minor": 5
}
