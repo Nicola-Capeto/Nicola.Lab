{
 "cells": [
  {
   "cell_type": "code",
   "execution_count": 852,
   "id": "ece768d0",
   "metadata": {},
   "outputs": [],
   "source": [
    "import numpy as np\n",
    "import pandas as pd\n",
    "import matplotlib.pyplot as plt\n",
    "%matplotlib inline\n",
    "import seaborn as sns\n",
    "from sklearn.preprocessing import StandardScaler\n",
    "from sklearn.preprocessing import quantile_transform\n",
    "from sklearn.preprocessing import minmax_scale\n",
    "from sklearn.preprocessing import OneHotEncoder  ##. better to use dummy from pandas \n",
    "from sklearn.preprocessing import PowerTransformer\n",
    "from scipy.stats import boxcox\n",
    "from sklearn.linear_model import LinearRegression\n",
    "from sklearn.model_selection import train_test_split\n",
    "import statsmodels.api as sm\n",
    "from scipy.stats import boxcox\n",
    "from sklearn.metrics import r2_score\n",
    "from sklearn.metrics import mean_squared_error as mse\n",
    "from sklearn.metrics import mean_absolute_error as mae\n",
    "pd.options.display.max_rows = 50\n",
    "## Install xlrd package to load Excel files\n",
    "# conda install openpyxl\n",
    "## conda install xlrd\n"
   ]
  },
  {
   "cell_type": "markdown",
   "id": "0aed178c",
   "metadata": {},
   "source": [
    "<b> loading cleaning data"
   ]
  },
  {
   "cell_type": "code",
   "execution_count": 853,
   "id": "5ee9740f",
   "metadata": {},
   "outputs": [],
   "source": [
    "Round3_df = pd.read_csv(\"Data_Marketing_Customer_Analysis_Round3.csv\")"
   ]
  },
  {
   "cell_type": "code",
   "execution_count": 854,
   "id": "4d595082",
   "metadata": {},
   "outputs": [
    {
     "data": {
      "text/plain": [
       "Index(['region', 'customer_lifetime_value', 'response', 'coverage',\n",
       "       'education', 'effective_to_date', 'month', 'employment_status',\n",
       "       'gender', 'income', 'location_code', 'marital_status',\n",
       "       'monthly_premium_auto', 'months_since_last_claim',\n",
       "       'months_since_policy_inception', 'number_of_open_complaints',\n",
       "       'number_of_policies', 'policy_type', 'policy', 'renew_offer_type',\n",
       "       'sales_channel', 'total_claim_amount', 'vehicle_class', 'vehicle_size'],\n",
       "      dtype='object')"
      ]
     },
     "execution_count": 854,
     "metadata": {},
     "output_type": "execute_result"
    }
   ],
   "source": [
    "Round3_df.columns"
   ]
  },
  {
   "cell_type": "markdown",
   "id": "dc634f99",
   "metadata": {},
   "source": [
    "<b> checking correlations between numerical variables"
   ]
  },
  {
   "cell_type": "code",
   "execution_count": 855,
   "id": "6e775e04",
   "metadata": {},
   "outputs": [
    {
     "data": {
      "text/html": [
       "<div>\n",
       "<style scoped>\n",
       "    .dataframe tbody tr th:only-of-type {\n",
       "        vertical-align: middle;\n",
       "    }\n",
       "\n",
       "    .dataframe tbody tr th {\n",
       "        vertical-align: top;\n",
       "    }\n",
       "\n",
       "    .dataframe thead th {\n",
       "        text-align: right;\n",
       "    }\n",
       "</style>\n",
       "<table border=\"1\" class=\"dataframe\">\n",
       "  <thead>\n",
       "    <tr style=\"text-align: right;\">\n",
       "      <th></th>\n",
       "      <th>region</th>\n",
       "      <th>customer_lifetime_value</th>\n",
       "      <th>response</th>\n",
       "      <th>coverage</th>\n",
       "      <th>education</th>\n",
       "      <th>effective_to_date</th>\n",
       "      <th>month</th>\n",
       "      <th>employment_status</th>\n",
       "      <th>gender</th>\n",
       "      <th>income</th>\n",
       "      <th>...</th>\n",
       "      <th>months_since_policy_inception</th>\n",
       "      <th>number_of_open_complaints</th>\n",
       "      <th>number_of_policies</th>\n",
       "      <th>policy_type</th>\n",
       "      <th>policy</th>\n",
       "      <th>renew_offer_type</th>\n",
       "      <th>sales_channel</th>\n",
       "      <th>total_claim_amount</th>\n",
       "      <th>vehicle_class</th>\n",
       "      <th>vehicle_size</th>\n",
       "    </tr>\n",
       "  </thead>\n",
       "  <tbody>\n",
       "    <tr>\n",
       "      <th>0</th>\n",
       "      <td>central</td>\n",
       "      <td>4809</td>\n",
       "      <td>no</td>\n",
       "      <td>basic</td>\n",
       "      <td>college</td>\n",
       "      <td>2/18/11</td>\n",
       "      <td>feb</td>\n",
       "      <td>employed</td>\n",
       "      <td>m</td>\n",
       "      <td>48029</td>\n",
       "      <td>...</td>\n",
       "      <td>52</td>\n",
       "      <td>0</td>\n",
       "      <td>9</td>\n",
       "      <td>corporate auto</td>\n",
       "      <td>corporate l3</td>\n",
       "      <td>offer3</td>\n",
       "      <td>agent</td>\n",
       "      <td>292</td>\n",
       "      <td>four-door car</td>\n",
       "      <td>medsize</td>\n",
       "    </tr>\n",
       "    <tr>\n",
       "      <th>1</th>\n",
       "      <td>west region</td>\n",
       "      <td>2228</td>\n",
       "      <td>no</td>\n",
       "      <td>basic</td>\n",
       "      <td>college</td>\n",
       "      <td>1/18/11</td>\n",
       "      <td>jan</td>\n",
       "      <td>unemployed</td>\n",
       "      <td>f</td>\n",
       "      <td>92260</td>\n",
       "      <td>...</td>\n",
       "      <td>26</td>\n",
       "      <td>0</td>\n",
       "      <td>1</td>\n",
       "      <td>personal auto</td>\n",
       "      <td>personal l3</td>\n",
       "      <td>offer4</td>\n",
       "      <td>call center</td>\n",
       "      <td>744</td>\n",
       "      <td>four-door car</td>\n",
       "      <td>medsize</td>\n",
       "    </tr>\n",
       "    <tr>\n",
       "      <th>2</th>\n",
       "      <td>east</td>\n",
       "      <td>14947</td>\n",
       "      <td>no</td>\n",
       "      <td>basic</td>\n",
       "      <td>bachelor</td>\n",
       "      <td>2/10/11</td>\n",
       "      <td>feb</td>\n",
       "      <td>employed</td>\n",
       "      <td>m</td>\n",
       "      <td>22139</td>\n",
       "      <td>...</td>\n",
       "      <td>31</td>\n",
       "      <td>0</td>\n",
       "      <td>2</td>\n",
       "      <td>personal auto</td>\n",
       "      <td>personal l3</td>\n",
       "      <td>offer3</td>\n",
       "      <td>call center</td>\n",
       "      <td>480</td>\n",
       "      <td>suv</td>\n",
       "      <td>medsize</td>\n",
       "    </tr>\n",
       "    <tr>\n",
       "      <th>3</th>\n",
       "      <td>north west</td>\n",
       "      <td>22332</td>\n",
       "      <td>yes</td>\n",
       "      <td>extended</td>\n",
       "      <td>college</td>\n",
       "      <td>1/11/11</td>\n",
       "      <td>jan</td>\n",
       "      <td>employed</td>\n",
       "      <td>m</td>\n",
       "      <td>49078</td>\n",
       "      <td>...</td>\n",
       "      <td>3</td>\n",
       "      <td>0</td>\n",
       "      <td>2</td>\n",
       "      <td>corporate auto</td>\n",
       "      <td>corporate l3</td>\n",
       "      <td>offer2</td>\n",
       "      <td>branch</td>\n",
       "      <td>484</td>\n",
       "      <td>four-door car</td>\n",
       "      <td>medsize</td>\n",
       "    </tr>\n",
       "    <tr>\n",
       "      <th>4</th>\n",
       "      <td>north west</td>\n",
       "      <td>9025</td>\n",
       "      <td>no</td>\n",
       "      <td>premium</td>\n",
       "      <td>bachelor</td>\n",
       "      <td>1/17/11</td>\n",
       "      <td>jan</td>\n",
       "      <td>medical leave</td>\n",
       "      <td>f</td>\n",
       "      <td>23675</td>\n",
       "      <td>...</td>\n",
       "      <td>31</td>\n",
       "      <td>0</td>\n",
       "      <td>7</td>\n",
       "      <td>personal auto</td>\n",
       "      <td>personal l2</td>\n",
       "      <td>offer1</td>\n",
       "      <td>branch</td>\n",
       "      <td>707</td>\n",
       "      <td>four-door car</td>\n",
       "      <td>medsize</td>\n",
       "    </tr>\n",
       "    <tr>\n",
       "      <th>...</th>\n",
       "      <td>...</td>\n",
       "      <td>...</td>\n",
       "      <td>...</td>\n",
       "      <td>...</td>\n",
       "      <td>...</td>\n",
       "      <td>...</td>\n",
       "      <td>...</td>\n",
       "      <td>...</td>\n",
       "      <td>...</td>\n",
       "      <td>...</td>\n",
       "      <td>...</td>\n",
       "      <td>...</td>\n",
       "      <td>...</td>\n",
       "      <td>...</td>\n",
       "      <td>...</td>\n",
       "      <td>...</td>\n",
       "      <td>...</td>\n",
       "      <td>...</td>\n",
       "      <td>...</td>\n",
       "      <td>...</td>\n",
       "      <td>...</td>\n",
       "    </tr>\n",
       "    <tr>\n",
       "      <th>10684</th>\n",
       "      <td>central</td>\n",
       "      <td>15563</td>\n",
       "      <td>no</td>\n",
       "      <td>premium</td>\n",
       "      <td>bachelor</td>\n",
       "      <td>1/19/11</td>\n",
       "      <td>jan</td>\n",
       "      <td>unemployed</td>\n",
       "      <td>f</td>\n",
       "      <td>61541</td>\n",
       "      <td>...</td>\n",
       "      <td>40</td>\n",
       "      <td>0</td>\n",
       "      <td>7</td>\n",
       "      <td>personal auto</td>\n",
       "      <td>personal l1</td>\n",
       "      <td>offer3</td>\n",
       "      <td>web</td>\n",
       "      <td>1214</td>\n",
       "      <td>luxury car</td>\n",
       "      <td>medsize</td>\n",
       "    </tr>\n",
       "    <tr>\n",
       "      <th>10685</th>\n",
       "      <td>north west</td>\n",
       "      <td>5259</td>\n",
       "      <td>no</td>\n",
       "      <td>basic</td>\n",
       "      <td>college</td>\n",
       "      <td>1/6/11</td>\n",
       "      <td>jan</td>\n",
       "      <td>employed</td>\n",
       "      <td>f</td>\n",
       "      <td>61146</td>\n",
       "      <td>...</td>\n",
       "      <td>68</td>\n",
       "      <td>0</td>\n",
       "      <td>6</td>\n",
       "      <td>personal auto</td>\n",
       "      <td>personal l3</td>\n",
       "      <td>offer2</td>\n",
       "      <td>branch</td>\n",
       "      <td>273</td>\n",
       "      <td>four-door car</td>\n",
       "      <td>medsize</td>\n",
       "    </tr>\n",
       "    <tr>\n",
       "      <th>10686</th>\n",
       "      <td>central</td>\n",
       "      <td>23893</td>\n",
       "      <td>no</td>\n",
       "      <td>extended</td>\n",
       "      <td>bachelor</td>\n",
       "      <td>2/6/11</td>\n",
       "      <td>feb</td>\n",
       "      <td>employed</td>\n",
       "      <td>f</td>\n",
       "      <td>39837</td>\n",
       "      <td>...</td>\n",
       "      <td>63</td>\n",
       "      <td>0</td>\n",
       "      <td>2</td>\n",
       "      <td>corporate auto</td>\n",
       "      <td>corporate l3</td>\n",
       "      <td>offer1</td>\n",
       "      <td>web</td>\n",
       "      <td>381</td>\n",
       "      <td>luxury suv</td>\n",
       "      <td>medsize</td>\n",
       "    </tr>\n",
       "    <tr>\n",
       "      <th>10687</th>\n",
       "      <td>west region</td>\n",
       "      <td>11971</td>\n",
       "      <td>no</td>\n",
       "      <td>premium</td>\n",
       "      <td>college</td>\n",
       "      <td>2/13/11</td>\n",
       "      <td>feb</td>\n",
       "      <td>employed</td>\n",
       "      <td>f</td>\n",
       "      <td>64195</td>\n",
       "      <td>...</td>\n",
       "      <td>27</td>\n",
       "      <td>4</td>\n",
       "      <td>6</td>\n",
       "      <td>personal auto</td>\n",
       "      <td>personal l1</td>\n",
       "      <td>offer1</td>\n",
       "      <td>branch</td>\n",
       "      <td>618</td>\n",
       "      <td>suv</td>\n",
       "      <td>medsize</td>\n",
       "    </tr>\n",
       "    <tr>\n",
       "      <th>10688</th>\n",
       "      <td>central</td>\n",
       "      <td>6857</td>\n",
       "      <td>no</td>\n",
       "      <td>basic</td>\n",
       "      <td>bachelor</td>\n",
       "      <td>1/8/11</td>\n",
       "      <td>jan</td>\n",
       "      <td>unemployed</td>\n",
       "      <td>m</td>\n",
       "      <td>68942</td>\n",
       "      <td>...</td>\n",
       "      <td>1</td>\n",
       "      <td>0</td>\n",
       "      <td>3</td>\n",
       "      <td>personal auto</td>\n",
       "      <td>personal l1</td>\n",
       "      <td>offer4</td>\n",
       "      <td>web</td>\n",
       "      <td>1021</td>\n",
       "      <td>suv</td>\n",
       "      <td>medsize</td>\n",
       "    </tr>\n",
       "  </tbody>\n",
       "</table>\n",
       "<p>10689 rows × 24 columns</p>\n",
       "</div>"
      ],
      "text/plain": [
       "            region  customer_lifetime_value response  coverage education  \\\n",
       "0          central                     4809       no     basic   college   \n",
       "1      west region                     2228       no     basic   college   \n",
       "2             east                    14947       no     basic  bachelor   \n",
       "3       north west                    22332      yes  extended   college   \n",
       "4       north west                     9025       no   premium  bachelor   \n",
       "...            ...                      ...      ...       ...       ...   \n",
       "10684      central                    15563       no   premium  bachelor   \n",
       "10685   north west                     5259       no     basic   college   \n",
       "10686      central                    23893       no  extended  bachelor   \n",
       "10687  west region                    11971       no   premium   college   \n",
       "10688      central                     6857       no     basic  bachelor   \n",
       "\n",
       "      effective_to_date month employment_status gender  income  ...  \\\n",
       "0               2/18/11   feb          employed      m   48029  ...   \n",
       "1               1/18/11   jan        unemployed      f   92260  ...   \n",
       "2               2/10/11   feb          employed      m   22139  ...   \n",
       "3               1/11/11   jan          employed      m   49078  ...   \n",
       "4               1/17/11   jan     medical leave      f   23675  ...   \n",
       "...                 ...   ...               ...    ...     ...  ...   \n",
       "10684           1/19/11   jan        unemployed      f   61541  ...   \n",
       "10685            1/6/11   jan          employed      f   61146  ...   \n",
       "10686            2/6/11   feb          employed      f   39837  ...   \n",
       "10687           2/13/11   feb          employed      f   64195  ...   \n",
       "10688            1/8/11   jan        unemployed      m   68942  ...   \n",
       "\n",
       "      months_since_policy_inception number_of_open_complaints  \\\n",
       "0                                52                         0   \n",
       "1                                26                         0   \n",
       "2                                31                         0   \n",
       "3                                 3                         0   \n",
       "4                                31                         0   \n",
       "...                             ...                       ...   \n",
       "10684                            40                         0   \n",
       "10685                            68                         0   \n",
       "10686                            63                         0   \n",
       "10687                            27                         4   \n",
       "10688                             1                         0   \n",
       "\n",
       "       number_of_policies     policy_type        policy  renew_offer_type  \\\n",
       "0                       9  corporate auto  corporate l3            offer3   \n",
       "1                       1   personal auto   personal l3            offer4   \n",
       "2                       2   personal auto   personal l3            offer3   \n",
       "3                       2  corporate auto  corporate l3            offer2   \n",
       "4                       7   personal auto   personal l2            offer1   \n",
       "...                   ...             ...           ...               ...   \n",
       "10684                   7   personal auto   personal l1            offer3   \n",
       "10685                   6   personal auto   personal l3            offer2   \n",
       "10686                   2  corporate auto  corporate l3            offer1   \n",
       "10687                   6   personal auto   personal l1            offer1   \n",
       "10688                   3   personal auto   personal l1            offer4   \n",
       "\n",
       "       sales_channel total_claim_amount  vehicle_class vehicle_size  \n",
       "0              agent                292  four-door car      medsize  \n",
       "1        call center                744  four-door car      medsize  \n",
       "2        call center                480            suv      medsize  \n",
       "3             branch                484  four-door car      medsize  \n",
       "4             branch                707  four-door car      medsize  \n",
       "...              ...                ...            ...          ...  \n",
       "10684            web               1214     luxury car      medsize  \n",
       "10685         branch                273  four-door car      medsize  \n",
       "10686            web                381     luxury suv      medsize  \n",
       "10687         branch                618            suv      medsize  \n",
       "10688            web               1021            suv      medsize  \n",
       "\n",
       "[10689 rows x 24 columns]"
      ]
     },
     "execution_count": 855,
     "metadata": {},
     "output_type": "execute_result"
    }
   ],
   "source": [
    "Round3_df"
   ]
  },
  {
   "cell_type": "markdown",
   "id": "26688df5",
   "metadata": {},
   "source": [
    "check if there are highly correlated features and drop them if there are any."
   ]
  },
  {
   "cell_type": "code",
   "execution_count": 856,
   "id": "cee28a76",
   "metadata": {},
   "outputs": [
    {
     "data": {
      "text/html": [
       "<div>\n",
       "<style scoped>\n",
       "    .dataframe tbody tr th:only-of-type {\n",
       "        vertical-align: middle;\n",
       "    }\n",
       "\n",
       "    .dataframe tbody tr th {\n",
       "        vertical-align: top;\n",
       "    }\n",
       "\n",
       "    .dataframe thead th {\n",
       "        text-align: right;\n",
       "    }\n",
       "</style>\n",
       "<table border=\"1\" class=\"dataframe\">\n",
       "  <thead>\n",
       "    <tr style=\"text-align: right;\">\n",
       "      <th></th>\n",
       "      <th>customer_lifetime_value</th>\n",
       "      <th>income</th>\n",
       "      <th>monthly_premium_auto</th>\n",
       "      <th>months_since_last_claim</th>\n",
       "      <th>months_since_policy_inception</th>\n",
       "      <th>number_of_open_complaints</th>\n",
       "      <th>number_of_policies</th>\n",
       "      <th>total_claim_amount</th>\n",
       "    </tr>\n",
       "  </thead>\n",
       "  <tbody>\n",
       "    <tr>\n",
       "      <th>customer_lifetime_value</th>\n",
       "      <td>1.000000</td>\n",
       "      <td>0.003732</td>\n",
       "      <td>0.404235</td>\n",
       "      <td>0.011912</td>\n",
       "      <td>0.017055</td>\n",
       "      <td>-0.032371</td>\n",
       "      <td>0.016789</td>\n",
       "      <td>0.232849</td>\n",
       "    </tr>\n",
       "    <tr>\n",
       "      <th>income</th>\n",
       "      <td>0.003732</td>\n",
       "      <td>1.000000</td>\n",
       "      <td>-0.002431</td>\n",
       "      <td>-0.026564</td>\n",
       "      <td>0.003846</td>\n",
       "      <td>0.018903</td>\n",
       "      <td>-0.004461</td>\n",
       "      <td>-0.111221</td>\n",
       "    </tr>\n",
       "    <tr>\n",
       "      <th>monthly_premium_auto</th>\n",
       "      <td>0.404235</td>\n",
       "      <td>-0.002431</td>\n",
       "      <td>1.000000</td>\n",
       "      <td>0.010036</td>\n",
       "      <td>0.019696</td>\n",
       "      <td>-0.008811</td>\n",
       "      <td>-0.018805</td>\n",
       "      <td>0.630149</td>\n",
       "    </tr>\n",
       "    <tr>\n",
       "      <th>months_since_last_claim</th>\n",
       "      <td>0.011912</td>\n",
       "      <td>-0.026564</td>\n",
       "      <td>0.010036</td>\n",
       "      <td>1.000000</td>\n",
       "      <td>-0.034086</td>\n",
       "      <td>0.001204</td>\n",
       "      <td>0.000814</td>\n",
       "      <td>0.013874</td>\n",
       "    </tr>\n",
       "    <tr>\n",
       "      <th>months_since_policy_inception</th>\n",
       "      <td>0.017055</td>\n",
       "      <td>0.003846</td>\n",
       "      <td>0.019696</td>\n",
       "      <td>-0.034086</td>\n",
       "      <td>1.000000</td>\n",
       "      <td>0.002554</td>\n",
       "      <td>-0.009719</td>\n",
       "      <td>0.004186</td>\n",
       "    </tr>\n",
       "    <tr>\n",
       "      <th>number_of_open_complaints</th>\n",
       "      <td>-0.032371</td>\n",
       "      <td>0.018903</td>\n",
       "      <td>-0.008811</td>\n",
       "      <td>0.001204</td>\n",
       "      <td>0.002554</td>\n",
       "      <td>1.000000</td>\n",
       "      <td>-0.000303</td>\n",
       "      <td>-0.010668</td>\n",
       "    </tr>\n",
       "    <tr>\n",
       "      <th>number_of_policies</th>\n",
       "      <td>0.016789</td>\n",
       "      <td>-0.004461</td>\n",
       "      <td>-0.018805</td>\n",
       "      <td>0.000814</td>\n",
       "      <td>-0.009719</td>\n",
       "      <td>-0.000303</td>\n",
       "      <td>1.000000</td>\n",
       "      <td>-0.008019</td>\n",
       "    </tr>\n",
       "    <tr>\n",
       "      <th>total_claim_amount</th>\n",
       "      <td>0.232849</td>\n",
       "      <td>-0.111221</td>\n",
       "      <td>0.630149</td>\n",
       "      <td>0.013874</td>\n",
       "      <td>0.004186</td>\n",
       "      <td>-0.010668</td>\n",
       "      <td>-0.008019</td>\n",
       "      <td>1.000000</td>\n",
       "    </tr>\n",
       "  </tbody>\n",
       "</table>\n",
       "</div>"
      ],
      "text/plain": [
       "                               customer_lifetime_value    income  \\\n",
       "customer_lifetime_value                       1.000000  0.003732   \n",
       "income                                        0.003732  1.000000   \n",
       "monthly_premium_auto                          0.404235 -0.002431   \n",
       "months_since_last_claim                       0.011912 -0.026564   \n",
       "months_since_policy_inception                 0.017055  0.003846   \n",
       "number_of_open_complaints                    -0.032371  0.018903   \n",
       "number_of_policies                            0.016789 -0.004461   \n",
       "total_claim_amount                            0.232849 -0.111221   \n",
       "\n",
       "                               monthly_premium_auto  months_since_last_claim  \\\n",
       "customer_lifetime_value                    0.404235                 0.011912   \n",
       "income                                    -0.002431                -0.026564   \n",
       "monthly_premium_auto                       1.000000                 0.010036   \n",
       "months_since_last_claim                    0.010036                 1.000000   \n",
       "months_since_policy_inception              0.019696                -0.034086   \n",
       "number_of_open_complaints                 -0.008811                 0.001204   \n",
       "number_of_policies                        -0.018805                 0.000814   \n",
       "total_claim_amount                         0.630149                 0.013874   \n",
       "\n",
       "                               months_since_policy_inception  \\\n",
       "customer_lifetime_value                             0.017055   \n",
       "income                                              0.003846   \n",
       "monthly_premium_auto                                0.019696   \n",
       "months_since_last_claim                            -0.034086   \n",
       "months_since_policy_inception                       1.000000   \n",
       "number_of_open_complaints                           0.002554   \n",
       "number_of_policies                                 -0.009719   \n",
       "total_claim_amount                                  0.004186   \n",
       "\n",
       "                               number_of_open_complaints  number_of_policies  \\\n",
       "customer_lifetime_value                        -0.032371            0.016789   \n",
       "income                                          0.018903           -0.004461   \n",
       "monthly_premium_auto                           -0.008811           -0.018805   \n",
       "months_since_last_claim                         0.001204            0.000814   \n",
       "months_since_policy_inception                   0.002554           -0.009719   \n",
       "number_of_open_complaints                       1.000000           -0.000303   \n",
       "number_of_policies                             -0.000303            1.000000   \n",
       "total_claim_amount                             -0.010668           -0.008019   \n",
       "\n",
       "                               total_claim_amount  \n",
       "customer_lifetime_value                  0.232849  \n",
       "income                                  -0.111221  \n",
       "monthly_premium_auto                     0.630149  \n",
       "months_since_last_claim                  0.013874  \n",
       "months_since_policy_inception            0.004186  \n",
       "number_of_open_complaints               -0.010668  \n",
       "number_of_policies                      -0.008019  \n",
       "total_claim_amount                       1.000000  "
      ]
     },
     "execution_count": 856,
     "metadata": {},
     "output_type": "execute_result"
    }
   ],
   "source": [
    "Round3_df_multicollinearity_df=Round3_df.corr()\n",
    "Round3_df_multicollinearity_df"
   ]
  },
  {
   "cell_type": "markdown",
   "id": "e4a419d9",
   "metadata": {},
   "source": [
    "One Hot/Label Encoding of the categorical variables in the categoricals data frame that you created in Activity 3. ( Hint: check Dropfirst option)."
   ]
  },
  {
   "cell_type": "code",
   "execution_count": 857,
   "id": "33d9cc6c",
   "metadata": {},
   "outputs": [
    {
     "data": {
      "text/html": [
       "<div>\n",
       "<style scoped>\n",
       "    .dataframe tbody tr th:only-of-type {\n",
       "        vertical-align: middle;\n",
       "    }\n",
       "\n",
       "    .dataframe tbody tr th {\n",
       "        vertical-align: top;\n",
       "    }\n",
       "\n",
       "    .dataframe thead th {\n",
       "        text-align: right;\n",
       "    }\n",
       "</style>\n",
       "<table border=\"1\" class=\"dataframe\">\n",
       "  <thead>\n",
       "    <tr style=\"text-align: right;\">\n",
       "      <th></th>\n",
       "      <th>region</th>\n",
       "      <th>response</th>\n",
       "      <th>coverage</th>\n",
       "      <th>education</th>\n",
       "      <th>effective_to_date</th>\n",
       "      <th>month</th>\n",
       "      <th>employment_status</th>\n",
       "      <th>gender</th>\n",
       "      <th>location_code</th>\n",
       "      <th>marital_status</th>\n",
       "      <th>policy_type</th>\n",
       "      <th>policy</th>\n",
       "      <th>renew_offer_type</th>\n",
       "      <th>sales_channel</th>\n",
       "      <th>vehicle_class</th>\n",
       "      <th>vehicle_size</th>\n",
       "    </tr>\n",
       "  </thead>\n",
       "  <tbody>\n",
       "    <tr>\n",
       "      <th>0</th>\n",
       "      <td>central</td>\n",
       "      <td>no</td>\n",
       "      <td>basic</td>\n",
       "      <td>college</td>\n",
       "      <td>2/18/11</td>\n",
       "      <td>feb</td>\n",
       "      <td>employed</td>\n",
       "      <td>m</td>\n",
       "      <td>suburban</td>\n",
       "      <td>married</td>\n",
       "      <td>corporate auto</td>\n",
       "      <td>corporate l3</td>\n",
       "      <td>offer3</td>\n",
       "      <td>agent</td>\n",
       "      <td>four-door car</td>\n",
       "      <td>medsize</td>\n",
       "    </tr>\n",
       "    <tr>\n",
       "      <th>1</th>\n",
       "      <td>west region</td>\n",
       "      <td>no</td>\n",
       "      <td>basic</td>\n",
       "      <td>college</td>\n",
       "      <td>1/18/11</td>\n",
       "      <td>jan</td>\n",
       "      <td>unemployed</td>\n",
       "      <td>f</td>\n",
       "      <td>suburban</td>\n",
       "      <td>single</td>\n",
       "      <td>personal auto</td>\n",
       "      <td>personal l3</td>\n",
       "      <td>offer4</td>\n",
       "      <td>call center</td>\n",
       "      <td>four-door car</td>\n",
       "      <td>medsize</td>\n",
       "    </tr>\n",
       "    <tr>\n",
       "      <th>2</th>\n",
       "      <td>east</td>\n",
       "      <td>no</td>\n",
       "      <td>basic</td>\n",
       "      <td>bachelor</td>\n",
       "      <td>2/10/11</td>\n",
       "      <td>feb</td>\n",
       "      <td>employed</td>\n",
       "      <td>m</td>\n",
       "      <td>suburban</td>\n",
       "      <td>single</td>\n",
       "      <td>personal auto</td>\n",
       "      <td>personal l3</td>\n",
       "      <td>offer3</td>\n",
       "      <td>call center</td>\n",
       "      <td>suv</td>\n",
       "      <td>medsize</td>\n",
       "    </tr>\n",
       "    <tr>\n",
       "      <th>3</th>\n",
       "      <td>north west</td>\n",
       "      <td>yes</td>\n",
       "      <td>extended</td>\n",
       "      <td>college</td>\n",
       "      <td>1/11/11</td>\n",
       "      <td>jan</td>\n",
       "      <td>employed</td>\n",
       "      <td>m</td>\n",
       "      <td>suburban</td>\n",
       "      <td>single</td>\n",
       "      <td>corporate auto</td>\n",
       "      <td>corporate l3</td>\n",
       "      <td>offer2</td>\n",
       "      <td>branch</td>\n",
       "      <td>four-door car</td>\n",
       "      <td>medsize</td>\n",
       "    </tr>\n",
       "    <tr>\n",
       "      <th>4</th>\n",
       "      <td>north west</td>\n",
       "      <td>no</td>\n",
       "      <td>premium</td>\n",
       "      <td>bachelor</td>\n",
       "      <td>1/17/11</td>\n",
       "      <td>jan</td>\n",
       "      <td>medical leave</td>\n",
       "      <td>f</td>\n",
       "      <td>suburban</td>\n",
       "      <td>married</td>\n",
       "      <td>personal auto</td>\n",
       "      <td>personal l2</td>\n",
       "      <td>offer1</td>\n",
       "      <td>branch</td>\n",
       "      <td>four-door car</td>\n",
       "      <td>medsize</td>\n",
       "    </tr>\n",
       "    <tr>\n",
       "      <th>...</th>\n",
       "      <td>...</td>\n",
       "      <td>...</td>\n",
       "      <td>...</td>\n",
       "      <td>...</td>\n",
       "      <td>...</td>\n",
       "      <td>...</td>\n",
       "      <td>...</td>\n",
       "      <td>...</td>\n",
       "      <td>...</td>\n",
       "      <td>...</td>\n",
       "      <td>...</td>\n",
       "      <td>...</td>\n",
       "      <td>...</td>\n",
       "      <td>...</td>\n",
       "      <td>...</td>\n",
       "      <td>...</td>\n",
       "    </tr>\n",
       "    <tr>\n",
       "      <th>10684</th>\n",
       "      <td>central</td>\n",
       "      <td>no</td>\n",
       "      <td>premium</td>\n",
       "      <td>bachelor</td>\n",
       "      <td>1/19/11</td>\n",
       "      <td>jan</td>\n",
       "      <td>unemployed</td>\n",
       "      <td>f</td>\n",
       "      <td>suburban</td>\n",
       "      <td>married</td>\n",
       "      <td>personal auto</td>\n",
       "      <td>personal l1</td>\n",
       "      <td>offer3</td>\n",
       "      <td>web</td>\n",
       "      <td>luxury car</td>\n",
       "      <td>medsize</td>\n",
       "    </tr>\n",
       "    <tr>\n",
       "      <th>10685</th>\n",
       "      <td>north west</td>\n",
       "      <td>no</td>\n",
       "      <td>basic</td>\n",
       "      <td>college</td>\n",
       "      <td>1/6/11</td>\n",
       "      <td>jan</td>\n",
       "      <td>employed</td>\n",
       "      <td>f</td>\n",
       "      <td>urban</td>\n",
       "      <td>married</td>\n",
       "      <td>personal auto</td>\n",
       "      <td>personal l3</td>\n",
       "      <td>offer2</td>\n",
       "      <td>branch</td>\n",
       "      <td>four-door car</td>\n",
       "      <td>medsize</td>\n",
       "    </tr>\n",
       "    <tr>\n",
       "      <th>10686</th>\n",
       "      <td>central</td>\n",
       "      <td>no</td>\n",
       "      <td>extended</td>\n",
       "      <td>bachelor</td>\n",
       "      <td>2/6/11</td>\n",
       "      <td>feb</td>\n",
       "      <td>employed</td>\n",
       "      <td>f</td>\n",
       "      <td>rural</td>\n",
       "      <td>married</td>\n",
       "      <td>corporate auto</td>\n",
       "      <td>corporate l3</td>\n",
       "      <td>offer1</td>\n",
       "      <td>web</td>\n",
       "      <td>luxury suv</td>\n",
       "      <td>medsize</td>\n",
       "    </tr>\n",
       "    <tr>\n",
       "      <th>10687</th>\n",
       "      <td>west region</td>\n",
       "      <td>no</td>\n",
       "      <td>premium</td>\n",
       "      <td>college</td>\n",
       "      <td>2/13/11</td>\n",
       "      <td>feb</td>\n",
       "      <td>employed</td>\n",
       "      <td>f</td>\n",
       "      <td>urban</td>\n",
       "      <td>divorced</td>\n",
       "      <td>personal auto</td>\n",
       "      <td>personal l1</td>\n",
       "      <td>offer1</td>\n",
       "      <td>branch</td>\n",
       "      <td>suv</td>\n",
       "      <td>medsize</td>\n",
       "    </tr>\n",
       "    <tr>\n",
       "      <th>10688</th>\n",
       "      <td>central</td>\n",
       "      <td>no</td>\n",
       "      <td>basic</td>\n",
       "      <td>bachelor</td>\n",
       "      <td>1/8/11</td>\n",
       "      <td>jan</td>\n",
       "      <td>unemployed</td>\n",
       "      <td>m</td>\n",
       "      <td>suburban</td>\n",
       "      <td>single</td>\n",
       "      <td>personal auto</td>\n",
       "      <td>personal l1</td>\n",
       "      <td>offer4</td>\n",
       "      <td>web</td>\n",
       "      <td>suv</td>\n",
       "      <td>medsize</td>\n",
       "    </tr>\n",
       "  </tbody>\n",
       "</table>\n",
       "<p>10689 rows × 16 columns</p>\n",
       "</div>"
      ],
      "text/plain": [
       "            region response  coverage education effective_to_date month  \\\n",
       "0          central       no     basic   college           2/18/11   feb   \n",
       "1      west region       no     basic   college           1/18/11   jan   \n",
       "2             east       no     basic  bachelor           2/10/11   feb   \n",
       "3       north west      yes  extended   college           1/11/11   jan   \n",
       "4       north west       no   premium  bachelor           1/17/11   jan   \n",
       "...            ...      ...       ...       ...               ...   ...   \n",
       "10684      central       no   premium  bachelor           1/19/11   jan   \n",
       "10685   north west       no     basic   college            1/6/11   jan   \n",
       "10686      central       no  extended  bachelor            2/6/11   feb   \n",
       "10687  west region       no   premium   college           2/13/11   feb   \n",
       "10688      central       no     basic  bachelor            1/8/11   jan   \n",
       "\n",
       "      employment_status gender location_code marital_status     policy_type  \\\n",
       "0              employed      m      suburban        married  corporate auto   \n",
       "1            unemployed      f      suburban         single   personal auto   \n",
       "2              employed      m      suburban         single   personal auto   \n",
       "3              employed      m      suburban         single  corporate auto   \n",
       "4         medical leave      f      suburban        married   personal auto   \n",
       "...                 ...    ...           ...            ...             ...   \n",
       "10684        unemployed      f      suburban        married   personal auto   \n",
       "10685          employed      f         urban        married   personal auto   \n",
       "10686          employed      f         rural        married  corporate auto   \n",
       "10687          employed      f         urban       divorced   personal auto   \n",
       "10688        unemployed      m      suburban         single   personal auto   \n",
       "\n",
       "             policy renew_offer_type sales_channel  vehicle_class vehicle_size  \n",
       "0      corporate l3           offer3         agent  four-door car      medsize  \n",
       "1       personal l3           offer4   call center  four-door car      medsize  \n",
       "2       personal l3           offer3   call center            suv      medsize  \n",
       "3      corporate l3           offer2        branch  four-door car      medsize  \n",
       "4       personal l2           offer1        branch  four-door car      medsize  \n",
       "...             ...              ...           ...            ...          ...  \n",
       "10684   personal l1           offer3           web     luxury car      medsize  \n",
       "10685   personal l3           offer2        branch  four-door car      medsize  \n",
       "10686  corporate l3           offer1           web     luxury suv      medsize  \n",
       "10687   personal l1           offer1        branch            suv      medsize  \n",
       "10688   personal l1           offer4           web            suv      medsize  \n",
       "\n",
       "[10689 rows x 16 columns]"
      ]
     },
     "execution_count": 857,
     "metadata": {},
     "output_type": "execute_result"
    }
   ],
   "source": [
    "Round3_df= Round3_df.select_dtypes(exclude=[np.number])\n",
    "Round3_df_categoricals_df"
   ]
  },
  {
   "cell_type": "markdown",
   "id": "59a4b12b",
   "metadata": {},
   "source": [
    "Ordinal encoding"
   ]
  },
  {
   "cell_type": "code",
   "execution_count": 858,
   "id": "db1cfce9",
   "metadata": {},
   "outputs": [
    {
     "data": {
      "text/plain": [
       "array(['college', 'bachelor', 'high school or below', 'doctor', 'master'],\n",
       "      dtype=object)"
      ]
     },
     "execution_count": 858,
     "metadata": {},
     "output_type": "execute_result"
    }
   ],
   "source": [
    "Round3_df.education.unique()"
   ]
  },
  {
   "cell_type": "code",
   "execution_count": 859,
   "id": "e7f8c208",
   "metadata": {},
   "outputs": [],
   "source": [
    "education1 = {\"high school or below\":1, \"college\":2, \"bachelor\":3,\"master\":4, \"doctor\":5}\n",
    "Round3_df[\"education\"] = Round3_df[\"education\"].replace(education1)"
   ]
  },
  {
   "cell_type": "code",
   "execution_count": 860,
   "id": "0ef0121d",
   "metadata": {},
   "outputs": [
    {
     "data": {
      "text/plain": [
       "array(['basic', 'extended', 'premium'], dtype=object)"
      ]
     },
     "execution_count": 860,
     "metadata": {},
     "output_type": "execute_result"
    }
   ],
   "source": [
    "Round3_df.coverage.unique()"
   ]
  },
  {
   "cell_type": "code",
   "execution_count": 861,
   "id": "5b92f917",
   "metadata": {},
   "outputs": [],
   "source": [
    "coverage1 = {\"basic\":1, \"extended\":2, \"premium\":3}\n",
    "Round3_df[\"coverage\"] = Round3_df[\"coverage\"].replace(coverage1)"
   ]
  },
  {
   "cell_type": "code",
   "execution_count": 862,
   "id": "e96a76d3",
   "metadata": {},
   "outputs": [
    {
     "data": {
      "text/plain": [
       "array(['employed', 'unemployed', 'medical leave', 'disabled', 'retired'],\n",
       "      dtype=object)"
      ]
     },
     "execution_count": 862,
     "metadata": {},
     "output_type": "execute_result"
    }
   ],
   "source": [
    "Round3_df.employment_status.unique()"
   ]
  },
  {
   "cell_type": "code",
   "execution_count": 863,
   "id": "3b0b3fb7",
   "metadata": {},
   "outputs": [],
   "source": [
    "employment_status1 = {\"disabled\":1, \"retired\":2, \"medical leave\":3, \"unemployed\":4, \"employed\":5}\n",
    "Round3_df[\"employment_status\"] = Round3_df[\"employment_status\"].replace(employment_status1)"
   ]
  },
  {
   "cell_type": "code",
   "execution_count": 864,
   "id": "d40512a7",
   "metadata": {},
   "outputs": [
    {
     "data": {
      "text/plain": [
       "array(['four-door car', 'suv', 'two-door car', 'sports car', 'luxury car',\n",
       "       'luxury suv'], dtype=object)"
      ]
     },
     "execution_count": 864,
     "metadata": {},
     "output_type": "execute_result"
    }
   ],
   "source": [
    "Round3_df.vehicle_class.unique()"
   ]
  },
  {
   "cell_type": "code",
   "execution_count": 865,
   "id": "bfb8b8a0",
   "metadata": {},
   "outputs": [],
   "source": [
    "vehicle_class1 = {\"two-door car\":1, \"four-door car\":1, \"sports car\":2, \"suv\":2, \"luxury car\":3, \"luxury suv\":3}\n",
    "Round3_df[\"vehicle_class\"] = Round3_df[\"vehicle_class\"].replace(vehicle_class1)"
   ]
  },
  {
   "cell_type": "code",
   "execution_count": 866,
   "id": "53730910",
   "metadata": {},
   "outputs": [
    {
     "data": {
      "text/plain": [
       "array(['medsize', 'small', 'large'], dtype=object)"
      ]
     },
     "execution_count": 866,
     "metadata": {},
     "output_type": "execute_result"
    }
   ],
   "source": [
    "Round3_df.vehicle_size.unique()"
   ]
  },
  {
   "cell_type": "code",
   "execution_count": 867,
   "id": "1d98755c",
   "metadata": {},
   "outputs": [],
   "source": [
    "vehicle_size1 = {\"small\":1, \"medsize\":2, \"large\":3}\n",
    "Round3_df[\"vehicle_size\"] = Round3_df[\"vehicle_size\"].replace(vehicle_size1)"
   ]
  },
  {
   "cell_type": "code",
   "execution_count": 868,
   "id": "394be7fd",
   "metadata": {},
   "outputs": [
    {
     "data": {
      "text/plain": [
       "array(['offer3', 'offer4', 'offer2', 'offer1'], dtype=object)"
      ]
     },
     "execution_count": 868,
     "metadata": {},
     "output_type": "execute_result"
    }
   ],
   "source": [
    "Round3_df.renew_offer_type.unique()"
   ]
  },
  {
   "cell_type": "code",
   "execution_count": 869,
   "id": "4422ab5a",
   "metadata": {},
   "outputs": [],
   "source": [
    "renew_offer_type1 = {\"offer1\":1, \"offer2\":2, \"offer3\":3, \"offer4\":4}\n",
    "Round3_df[\"renew_offer_type\"] = Round3_df[\"renew_offer_type\"].replace(renew_offer_type1)"
   ]
  },
  {
   "cell_type": "code",
   "execution_count": 870,
   "id": "d79f2a42",
   "metadata": {},
   "outputs": [
    {
     "data": {
      "text/html": [
       "<div>\n",
       "<style scoped>\n",
       "    .dataframe tbody tr th:only-of-type {\n",
       "        vertical-align: middle;\n",
       "    }\n",
       "\n",
       "    .dataframe tbody tr th {\n",
       "        vertical-align: top;\n",
       "    }\n",
       "\n",
       "    .dataframe thead th {\n",
       "        text-align: right;\n",
       "    }\n",
       "</style>\n",
       "<table border=\"1\" class=\"dataframe\">\n",
       "  <thead>\n",
       "    <tr style=\"text-align: right;\">\n",
       "      <th></th>\n",
       "      <th>region</th>\n",
       "      <th>response</th>\n",
       "      <th>coverage</th>\n",
       "      <th>education</th>\n",
       "      <th>effective_to_date</th>\n",
       "      <th>month</th>\n",
       "      <th>employment_status</th>\n",
       "      <th>gender</th>\n",
       "      <th>location_code</th>\n",
       "      <th>marital_status</th>\n",
       "      <th>policy_type</th>\n",
       "      <th>policy</th>\n",
       "      <th>renew_offer_type</th>\n",
       "      <th>sales_channel</th>\n",
       "      <th>vehicle_class</th>\n",
       "      <th>vehicle_size</th>\n",
       "    </tr>\n",
       "  </thead>\n",
       "  <tbody>\n",
       "    <tr>\n",
       "      <th>0</th>\n",
       "      <td>central</td>\n",
       "      <td>no</td>\n",
       "      <td>1</td>\n",
       "      <td>2</td>\n",
       "      <td>2/18/11</td>\n",
       "      <td>feb</td>\n",
       "      <td>5</td>\n",
       "      <td>m</td>\n",
       "      <td>suburban</td>\n",
       "      <td>married</td>\n",
       "      <td>corporate auto</td>\n",
       "      <td>corporate l3</td>\n",
       "      <td>3</td>\n",
       "      <td>agent</td>\n",
       "      <td>1</td>\n",
       "      <td>2</td>\n",
       "    </tr>\n",
       "    <tr>\n",
       "      <th>1</th>\n",
       "      <td>west region</td>\n",
       "      <td>no</td>\n",
       "      <td>1</td>\n",
       "      <td>2</td>\n",
       "      <td>1/18/11</td>\n",
       "      <td>jan</td>\n",
       "      <td>4</td>\n",
       "      <td>f</td>\n",
       "      <td>suburban</td>\n",
       "      <td>single</td>\n",
       "      <td>personal auto</td>\n",
       "      <td>personal l3</td>\n",
       "      <td>4</td>\n",
       "      <td>call center</td>\n",
       "      <td>1</td>\n",
       "      <td>2</td>\n",
       "    </tr>\n",
       "    <tr>\n",
       "      <th>2</th>\n",
       "      <td>east</td>\n",
       "      <td>no</td>\n",
       "      <td>1</td>\n",
       "      <td>3</td>\n",
       "      <td>2/10/11</td>\n",
       "      <td>feb</td>\n",
       "      <td>5</td>\n",
       "      <td>m</td>\n",
       "      <td>suburban</td>\n",
       "      <td>single</td>\n",
       "      <td>personal auto</td>\n",
       "      <td>personal l3</td>\n",
       "      <td>3</td>\n",
       "      <td>call center</td>\n",
       "      <td>2</td>\n",
       "      <td>2</td>\n",
       "    </tr>\n",
       "    <tr>\n",
       "      <th>3</th>\n",
       "      <td>north west</td>\n",
       "      <td>yes</td>\n",
       "      <td>2</td>\n",
       "      <td>2</td>\n",
       "      <td>1/11/11</td>\n",
       "      <td>jan</td>\n",
       "      <td>5</td>\n",
       "      <td>m</td>\n",
       "      <td>suburban</td>\n",
       "      <td>single</td>\n",
       "      <td>corporate auto</td>\n",
       "      <td>corporate l3</td>\n",
       "      <td>2</td>\n",
       "      <td>branch</td>\n",
       "      <td>1</td>\n",
       "      <td>2</td>\n",
       "    </tr>\n",
       "    <tr>\n",
       "      <th>4</th>\n",
       "      <td>north west</td>\n",
       "      <td>no</td>\n",
       "      <td>3</td>\n",
       "      <td>3</td>\n",
       "      <td>1/17/11</td>\n",
       "      <td>jan</td>\n",
       "      <td>3</td>\n",
       "      <td>f</td>\n",
       "      <td>suburban</td>\n",
       "      <td>married</td>\n",
       "      <td>personal auto</td>\n",
       "      <td>personal l2</td>\n",
       "      <td>1</td>\n",
       "      <td>branch</td>\n",
       "      <td>1</td>\n",
       "      <td>2</td>\n",
       "    </tr>\n",
       "  </tbody>\n",
       "</table>\n",
       "</div>"
      ],
      "text/plain": [
       "        region response  coverage  education effective_to_date month  \\\n",
       "0      central       no         1          2           2/18/11   feb   \n",
       "1  west region       no         1          2           1/18/11   jan   \n",
       "2         east       no         1          3           2/10/11   feb   \n",
       "3   north west      yes         2          2           1/11/11   jan   \n",
       "4   north west       no         3          3           1/17/11   jan   \n",
       "\n",
       "   employment_status gender location_code marital_status     policy_type  \\\n",
       "0                  5      m      suburban        married  corporate auto   \n",
       "1                  4      f      suburban         single   personal auto   \n",
       "2                  5      m      suburban         single   personal auto   \n",
       "3                  5      m      suburban         single  corporate auto   \n",
       "4                  3      f      suburban        married   personal auto   \n",
       "\n",
       "         policy  renew_offer_type sales_channel  vehicle_class  vehicle_size  \n",
       "0  corporate l3                 3         agent              1             2  \n",
       "1   personal l3                 4   call center              1             2  \n",
       "2   personal l3                 3   call center              2             2  \n",
       "3  corporate l3                 2        branch              1             2  \n",
       "4   personal l2                 1        branch              1             2  "
      ]
     },
     "execution_count": 870,
     "metadata": {},
     "output_type": "execute_result"
    }
   ],
   "source": [
    "Round3_df.head()"
   ]
  },
  {
   "cell_type": "markdown",
   "id": "2c06846c",
   "metadata": {},
   "source": [
    "One Hot Encoding"
   ]
  },
  {
   "cell_type": "code",
   "execution_count": 871,
   "id": "d8a47d4c",
   "metadata": {},
   "outputs": [
    {
     "data": {
      "text/plain": [
       "array(['central', 'west region', 'east', 'north west'], dtype=object)"
      ]
     },
     "execution_count": 871,
     "metadata": {},
     "output_type": "execute_result"
    }
   ],
   "source": [
    "Round3_df.region.unique()"
   ]
  },
  {
   "cell_type": "code",
   "execution_count": 872,
   "id": "ee99622f",
   "metadata": {},
   "outputs": [
    {
     "data": {
      "text/plain": [
       "array(['no', 'yes'], dtype=object)"
      ]
     },
     "execution_count": 872,
     "metadata": {},
     "output_type": "execute_result"
    }
   ],
   "source": [
    "Round3_df.response.unique()"
   ]
  },
  {
   "cell_type": "code",
   "execution_count": 873,
   "id": "e08ff69e",
   "metadata": {},
   "outputs": [
    {
     "data": {
      "text/plain": [
       "array(['m', 'f'], dtype=object)"
      ]
     },
     "execution_count": 873,
     "metadata": {},
     "output_type": "execute_result"
    }
   ],
   "source": [
    "Round3_df.gender.unique()"
   ]
  },
  {
   "cell_type": "code",
   "execution_count": 874,
   "id": "b875d024",
   "metadata": {},
   "outputs": [
    {
     "data": {
      "text/plain": [
       "array(['suburban', 'urban', 'rural'], dtype=object)"
      ]
     },
     "execution_count": 874,
     "metadata": {},
     "output_type": "execute_result"
    }
   ],
   "source": [
    "Round3_df.location_code.unique()"
   ]
  },
  {
   "cell_type": "code",
   "execution_count": 875,
   "id": "9356b0cd",
   "metadata": {},
   "outputs": [
    {
     "data": {
      "text/plain": [
       "array(['married', 'single', 'divorced'], dtype=object)"
      ]
     },
     "execution_count": 875,
     "metadata": {},
     "output_type": "execute_result"
    }
   ],
   "source": [
    "Round3_df.marital_status.unique()"
   ]
  },
  {
   "cell_type": "code",
   "execution_count": 876,
   "id": "8a201759",
   "metadata": {},
   "outputs": [
    {
     "data": {
      "text/plain": [
       "array(['corporate auto', 'personal auto', 'special auto'], dtype=object)"
      ]
     },
     "execution_count": 876,
     "metadata": {},
     "output_type": "execute_result"
    }
   ],
   "source": [
    "Round3_df.policy_type.unique()"
   ]
  },
  {
   "cell_type": "code",
   "execution_count": 877,
   "id": "801fe22a",
   "metadata": {},
   "outputs": [
    {
     "data": {
      "text/plain": [
       "array(['corporate l3', 'personal l3', 'personal l2', 'corporate l2',\n",
       "       'personal l1', 'special l1', 'corporate l1', 'special l3',\n",
       "       'special l2'], dtype=object)"
      ]
     },
     "execution_count": 877,
     "metadata": {},
     "output_type": "execute_result"
    }
   ],
   "source": [
    "Round3_df.policy.unique()"
   ]
  },
  {
   "cell_type": "code",
   "execution_count": 878,
   "id": "ad2cf211",
   "metadata": {},
   "outputs": [
    {
     "data": {
      "text/plain": [
       "array(['agent', 'call center', 'branch', 'web'], dtype=object)"
      ]
     },
     "execution_count": 878,
     "metadata": {},
     "output_type": "execute_result"
    }
   ],
   "source": [
    "Round3_df.sales_channel\t.unique()"
   ]
  },
  {
   "cell_type": "code",
   "execution_count": 879,
   "id": "abc8b994",
   "metadata": {},
   "outputs": [],
   "source": [
    "cate_df = pd.get_dummies(Round3_df, columns=[\"policy\", \"policy_type\", 'gender', \"marital_status\",\"region\",\"response\",\"location_code\",\"sales_channel\",\"month\"], prefix= \"dmy\")"
   ]
  },
  {
   "cell_type": "code",
   "execution_count": 880,
   "id": "13ffa39b",
   "metadata": {},
   "outputs": [
    {
     "data": {
      "text/html": [
       "<div>\n",
       "<style scoped>\n",
       "    .dataframe tbody tr th:only-of-type {\n",
       "        vertical-align: middle;\n",
       "    }\n",
       "\n",
       "    .dataframe tbody tr th {\n",
       "        vertical-align: top;\n",
       "    }\n",
       "\n",
       "    .dataframe thead th {\n",
       "        text-align: right;\n",
       "    }\n",
       "</style>\n",
       "<table border=\"1\" class=\"dataframe\">\n",
       "  <thead>\n",
       "    <tr style=\"text-align: right;\">\n",
       "      <th></th>\n",
       "      <th>coverage</th>\n",
       "      <th>education</th>\n",
       "      <th>effective_to_date</th>\n",
       "      <th>employment_status</th>\n",
       "      <th>renew_offer_type</th>\n",
       "      <th>vehicle_class</th>\n",
       "      <th>vehicle_size</th>\n",
       "      <th>dmy_corporate l1</th>\n",
       "      <th>dmy_corporate l2</th>\n",
       "      <th>dmy_corporate l3</th>\n",
       "      <th>...</th>\n",
       "      <th>dmy_yes</th>\n",
       "      <th>dmy_rural</th>\n",
       "      <th>dmy_suburban</th>\n",
       "      <th>dmy_urban</th>\n",
       "      <th>dmy_agent</th>\n",
       "      <th>dmy_branch</th>\n",
       "      <th>dmy_call center</th>\n",
       "      <th>dmy_web</th>\n",
       "      <th>dmy_feb</th>\n",
       "      <th>dmy_jan</th>\n",
       "    </tr>\n",
       "  </thead>\n",
       "  <tbody>\n",
       "    <tr>\n",
       "      <th>0</th>\n",
       "      <td>1</td>\n",
       "      <td>2</td>\n",
       "      <td>2/18/11</td>\n",
       "      <td>5</td>\n",
       "      <td>3</td>\n",
       "      <td>1</td>\n",
       "      <td>2</td>\n",
       "      <td>0</td>\n",
       "      <td>0</td>\n",
       "      <td>1</td>\n",
       "      <td>...</td>\n",
       "      <td>0</td>\n",
       "      <td>0</td>\n",
       "      <td>1</td>\n",
       "      <td>0</td>\n",
       "      <td>1</td>\n",
       "      <td>0</td>\n",
       "      <td>0</td>\n",
       "      <td>0</td>\n",
       "      <td>1</td>\n",
       "      <td>0</td>\n",
       "    </tr>\n",
       "    <tr>\n",
       "      <th>1</th>\n",
       "      <td>1</td>\n",
       "      <td>2</td>\n",
       "      <td>1/18/11</td>\n",
       "      <td>4</td>\n",
       "      <td>4</td>\n",
       "      <td>1</td>\n",
       "      <td>2</td>\n",
       "      <td>0</td>\n",
       "      <td>0</td>\n",
       "      <td>0</td>\n",
       "      <td>...</td>\n",
       "      <td>0</td>\n",
       "      <td>0</td>\n",
       "      <td>1</td>\n",
       "      <td>0</td>\n",
       "      <td>0</td>\n",
       "      <td>0</td>\n",
       "      <td>1</td>\n",
       "      <td>0</td>\n",
       "      <td>0</td>\n",
       "      <td>1</td>\n",
       "    </tr>\n",
       "    <tr>\n",
       "      <th>2</th>\n",
       "      <td>1</td>\n",
       "      <td>3</td>\n",
       "      <td>2/10/11</td>\n",
       "      <td>5</td>\n",
       "      <td>3</td>\n",
       "      <td>2</td>\n",
       "      <td>2</td>\n",
       "      <td>0</td>\n",
       "      <td>0</td>\n",
       "      <td>0</td>\n",
       "      <td>...</td>\n",
       "      <td>0</td>\n",
       "      <td>0</td>\n",
       "      <td>1</td>\n",
       "      <td>0</td>\n",
       "      <td>0</td>\n",
       "      <td>0</td>\n",
       "      <td>1</td>\n",
       "      <td>0</td>\n",
       "      <td>1</td>\n",
       "      <td>0</td>\n",
       "    </tr>\n",
       "    <tr>\n",
       "      <th>3</th>\n",
       "      <td>2</td>\n",
       "      <td>2</td>\n",
       "      <td>1/11/11</td>\n",
       "      <td>5</td>\n",
       "      <td>2</td>\n",
       "      <td>1</td>\n",
       "      <td>2</td>\n",
       "      <td>0</td>\n",
       "      <td>0</td>\n",
       "      <td>1</td>\n",
       "      <td>...</td>\n",
       "      <td>1</td>\n",
       "      <td>0</td>\n",
       "      <td>1</td>\n",
       "      <td>0</td>\n",
       "      <td>0</td>\n",
       "      <td>1</td>\n",
       "      <td>0</td>\n",
       "      <td>0</td>\n",
       "      <td>0</td>\n",
       "      <td>1</td>\n",
       "    </tr>\n",
       "    <tr>\n",
       "      <th>4</th>\n",
       "      <td>3</td>\n",
       "      <td>3</td>\n",
       "      <td>1/17/11</td>\n",
       "      <td>3</td>\n",
       "      <td>1</td>\n",
       "      <td>1</td>\n",
       "      <td>2</td>\n",
       "      <td>0</td>\n",
       "      <td>0</td>\n",
       "      <td>0</td>\n",
       "      <td>...</td>\n",
       "      <td>0</td>\n",
       "      <td>0</td>\n",
       "      <td>1</td>\n",
       "      <td>0</td>\n",
       "      <td>0</td>\n",
       "      <td>1</td>\n",
       "      <td>0</td>\n",
       "      <td>0</td>\n",
       "      <td>0</td>\n",
       "      <td>1</td>\n",
       "    </tr>\n",
       "    <tr>\n",
       "      <th>...</th>\n",
       "      <td>...</td>\n",
       "      <td>...</td>\n",
       "      <td>...</td>\n",
       "      <td>...</td>\n",
       "      <td>...</td>\n",
       "      <td>...</td>\n",
       "      <td>...</td>\n",
       "      <td>...</td>\n",
       "      <td>...</td>\n",
       "      <td>...</td>\n",
       "      <td>...</td>\n",
       "      <td>...</td>\n",
       "      <td>...</td>\n",
       "      <td>...</td>\n",
       "      <td>...</td>\n",
       "      <td>...</td>\n",
       "      <td>...</td>\n",
       "      <td>...</td>\n",
       "      <td>...</td>\n",
       "      <td>...</td>\n",
       "      <td>...</td>\n",
       "    </tr>\n",
       "    <tr>\n",
       "      <th>10684</th>\n",
       "      <td>3</td>\n",
       "      <td>3</td>\n",
       "      <td>1/19/11</td>\n",
       "      <td>4</td>\n",
       "      <td>3</td>\n",
       "      <td>3</td>\n",
       "      <td>2</td>\n",
       "      <td>0</td>\n",
       "      <td>0</td>\n",
       "      <td>0</td>\n",
       "      <td>...</td>\n",
       "      <td>0</td>\n",
       "      <td>0</td>\n",
       "      <td>1</td>\n",
       "      <td>0</td>\n",
       "      <td>0</td>\n",
       "      <td>0</td>\n",
       "      <td>0</td>\n",
       "      <td>1</td>\n",
       "      <td>0</td>\n",
       "      <td>1</td>\n",
       "    </tr>\n",
       "    <tr>\n",
       "      <th>10685</th>\n",
       "      <td>1</td>\n",
       "      <td>2</td>\n",
       "      <td>1/6/11</td>\n",
       "      <td>5</td>\n",
       "      <td>2</td>\n",
       "      <td>1</td>\n",
       "      <td>2</td>\n",
       "      <td>0</td>\n",
       "      <td>0</td>\n",
       "      <td>0</td>\n",
       "      <td>...</td>\n",
       "      <td>0</td>\n",
       "      <td>0</td>\n",
       "      <td>0</td>\n",
       "      <td>1</td>\n",
       "      <td>0</td>\n",
       "      <td>1</td>\n",
       "      <td>0</td>\n",
       "      <td>0</td>\n",
       "      <td>0</td>\n",
       "      <td>1</td>\n",
       "    </tr>\n",
       "    <tr>\n",
       "      <th>10686</th>\n",
       "      <td>2</td>\n",
       "      <td>3</td>\n",
       "      <td>2/6/11</td>\n",
       "      <td>5</td>\n",
       "      <td>1</td>\n",
       "      <td>3</td>\n",
       "      <td>2</td>\n",
       "      <td>0</td>\n",
       "      <td>0</td>\n",
       "      <td>1</td>\n",
       "      <td>...</td>\n",
       "      <td>0</td>\n",
       "      <td>1</td>\n",
       "      <td>0</td>\n",
       "      <td>0</td>\n",
       "      <td>0</td>\n",
       "      <td>0</td>\n",
       "      <td>0</td>\n",
       "      <td>1</td>\n",
       "      <td>1</td>\n",
       "      <td>0</td>\n",
       "    </tr>\n",
       "    <tr>\n",
       "      <th>10687</th>\n",
       "      <td>3</td>\n",
       "      <td>2</td>\n",
       "      <td>2/13/11</td>\n",
       "      <td>5</td>\n",
       "      <td>1</td>\n",
       "      <td>2</td>\n",
       "      <td>2</td>\n",
       "      <td>0</td>\n",
       "      <td>0</td>\n",
       "      <td>0</td>\n",
       "      <td>...</td>\n",
       "      <td>0</td>\n",
       "      <td>0</td>\n",
       "      <td>0</td>\n",
       "      <td>1</td>\n",
       "      <td>0</td>\n",
       "      <td>1</td>\n",
       "      <td>0</td>\n",
       "      <td>0</td>\n",
       "      <td>1</td>\n",
       "      <td>0</td>\n",
       "    </tr>\n",
       "    <tr>\n",
       "      <th>10688</th>\n",
       "      <td>1</td>\n",
       "      <td>3</td>\n",
       "      <td>1/8/11</td>\n",
       "      <td>4</td>\n",
       "      <td>4</td>\n",
       "      <td>2</td>\n",
       "      <td>2</td>\n",
       "      <td>0</td>\n",
       "      <td>0</td>\n",
       "      <td>0</td>\n",
       "      <td>...</td>\n",
       "      <td>0</td>\n",
       "      <td>0</td>\n",
       "      <td>1</td>\n",
       "      <td>0</td>\n",
       "      <td>0</td>\n",
       "      <td>0</td>\n",
       "      <td>0</td>\n",
       "      <td>1</td>\n",
       "      <td>0</td>\n",
       "      <td>1</td>\n",
       "    </tr>\n",
       "  </tbody>\n",
       "</table>\n",
       "<p>10689 rows × 39 columns</p>\n",
       "</div>"
      ],
      "text/plain": [
       "       coverage  education effective_to_date  employment_status  \\\n",
       "0             1          2           2/18/11                  5   \n",
       "1             1          2           1/18/11                  4   \n",
       "2             1          3           2/10/11                  5   \n",
       "3             2          2           1/11/11                  5   \n",
       "4             3          3           1/17/11                  3   \n",
       "...         ...        ...               ...                ...   \n",
       "10684         3          3           1/19/11                  4   \n",
       "10685         1          2            1/6/11                  5   \n",
       "10686         2          3            2/6/11                  5   \n",
       "10687         3          2           2/13/11                  5   \n",
       "10688         1          3            1/8/11                  4   \n",
       "\n",
       "       renew_offer_type  vehicle_class  vehicle_size  dmy_corporate l1  \\\n",
       "0                     3              1             2                 0   \n",
       "1                     4              1             2                 0   \n",
       "2                     3              2             2                 0   \n",
       "3                     2              1             2                 0   \n",
       "4                     1              1             2                 0   \n",
       "...                 ...            ...           ...               ...   \n",
       "10684                 3              3             2                 0   \n",
       "10685                 2              1             2                 0   \n",
       "10686                 1              3             2                 0   \n",
       "10687                 1              2             2                 0   \n",
       "10688                 4              2             2                 0   \n",
       "\n",
       "       dmy_corporate l2  dmy_corporate l3  ...  dmy_yes  dmy_rural  \\\n",
       "0                     0                 1  ...        0          0   \n",
       "1                     0                 0  ...        0          0   \n",
       "2                     0                 0  ...        0          0   \n",
       "3                     0                 1  ...        1          0   \n",
       "4                     0                 0  ...        0          0   \n",
       "...                 ...               ...  ...      ...        ...   \n",
       "10684                 0                 0  ...        0          0   \n",
       "10685                 0                 0  ...        0          0   \n",
       "10686                 0                 1  ...        0          1   \n",
       "10687                 0                 0  ...        0          0   \n",
       "10688                 0                 0  ...        0          0   \n",
       "\n",
       "       dmy_suburban  dmy_urban  dmy_agent  dmy_branch  dmy_call center  \\\n",
       "0                 1          0          1           0                0   \n",
       "1                 1          0          0           0                1   \n",
       "2                 1          0          0           0                1   \n",
       "3                 1          0          0           1                0   \n",
       "4                 1          0          0           1                0   \n",
       "...             ...        ...        ...         ...              ...   \n",
       "10684             1          0          0           0                0   \n",
       "10685             0          1          0           1                0   \n",
       "10686             0          0          0           0                0   \n",
       "10687             0          1          0           1                0   \n",
       "10688             1          0          0           0                0   \n",
       "\n",
       "       dmy_web  dmy_feb  dmy_jan  \n",
       "0            0        1        0  \n",
       "1            0        0        1  \n",
       "2            0        1        0  \n",
       "3            0        0        1  \n",
       "4            0        0        1  \n",
       "...        ...      ...      ...  \n",
       "10684        1        0        1  \n",
       "10685        0        0        1  \n",
       "10686        1        1        0  \n",
       "10687        0        1        0  \n",
       "10688        1        0        1  \n",
       "\n",
       "[10689 rows x 39 columns]"
      ]
     },
     "execution_count": 880,
     "metadata": {},
     "output_type": "execute_result"
    }
   ],
   "source": [
    "cate_df"
   ]
  },
  {
   "cell_type": "code",
   "execution_count": 881,
   "id": "9132d076",
   "metadata": {},
   "outputs": [],
   "source": [
    "cate_df = cate_df.drop(labels=['effective_to_date'], axis=1)"
   ]
  },
  {
   "cell_type": "code",
   "execution_count": 882,
   "id": "7cb5e8db",
   "metadata": {},
   "outputs": [
    {
     "ename": "NameError",
     "evalue": "name 'c' is not defined",
     "output_type": "error",
     "traceback": [
      "\u001b[0;31m---------------------------------------------------------------------------\u001b[0m",
      "\u001b[0;31mNameError\u001b[0m                                 Traceback (most recent call last)",
      "Input \u001b[0;32mIn [882]\u001b[0m, in \u001b[0;36m<cell line: 1>\u001b[0;34m()\u001b[0m\n\u001b[0;32m----> 1\u001b[0m \u001b[43mc\u001b[49m\n",
      "\u001b[0;31mNameError\u001b[0m: name 'c' is not defined"
     ]
    }
   ],
   "source": [
    "c"
   ]
  },
  {
   "cell_type": "markdown",
   "id": "960144c0",
   "metadata": {},
   "source": [
    "Linear Regression\n",
    "- X-y split (y is the target variable, which is the total claim amount)\n",
    "- Train-test split.\n",
    "- Standardize the data (after the data split).\n",
    "- Apply linear regression.\n",
    "- Model Interpretation."
   ]
  },
  {
   "cell_type": "code",
   "execution_count": 883,
   "id": "f3512b0f",
   "metadata": {},
   "outputs": [],
   "source": [
    "numerical_df=pd.read_csv(\"Data_Marketing_Customer_Analysis_Round3.csv\")"
   ]
  },
  {
   "cell_type": "code",
   "execution_count": 884,
   "id": "d93bd0f4",
   "metadata": {},
   "outputs": [
    {
     "data": {
      "text/html": [
       "<div>\n",
       "<style scoped>\n",
       "    .dataframe tbody tr th:only-of-type {\n",
       "        vertical-align: middle;\n",
       "    }\n",
       "\n",
       "    .dataframe tbody tr th {\n",
       "        vertical-align: top;\n",
       "    }\n",
       "\n",
       "    .dataframe thead th {\n",
       "        text-align: right;\n",
       "    }\n",
       "</style>\n",
       "<table border=\"1\" class=\"dataframe\">\n",
       "  <thead>\n",
       "    <tr style=\"text-align: right;\">\n",
       "      <th></th>\n",
       "      <th>customer_lifetime_value</th>\n",
       "      <th>income</th>\n",
       "      <th>monthly_premium_auto</th>\n",
       "      <th>months_since_last_claim</th>\n",
       "      <th>months_since_policy_inception</th>\n",
       "      <th>number_of_open_complaints</th>\n",
       "      <th>number_of_policies</th>\n",
       "      <th>total_claim_amount</th>\n",
       "    </tr>\n",
       "  </thead>\n",
       "  <tbody>\n",
       "    <tr>\n",
       "      <th>0</th>\n",
       "      <td>4809</td>\n",
       "      <td>48029</td>\n",
       "      <td>61</td>\n",
       "      <td>7</td>\n",
       "      <td>52</td>\n",
       "      <td>0</td>\n",
       "      <td>9</td>\n",
       "      <td>292</td>\n",
       "    </tr>\n",
       "    <tr>\n",
       "      <th>1</th>\n",
       "      <td>2228</td>\n",
       "      <td>92260</td>\n",
       "      <td>64</td>\n",
       "      <td>3</td>\n",
       "      <td>26</td>\n",
       "      <td>0</td>\n",
       "      <td>1</td>\n",
       "      <td>744</td>\n",
       "    </tr>\n",
       "    <tr>\n",
       "      <th>2</th>\n",
       "      <td>14947</td>\n",
       "      <td>22139</td>\n",
       "      <td>100</td>\n",
       "      <td>34</td>\n",
       "      <td>31</td>\n",
       "      <td>0</td>\n",
       "      <td>2</td>\n",
       "      <td>480</td>\n",
       "    </tr>\n",
       "    <tr>\n",
       "      <th>3</th>\n",
       "      <td>22332</td>\n",
       "      <td>49078</td>\n",
       "      <td>97</td>\n",
       "      <td>10</td>\n",
       "      <td>3</td>\n",
       "      <td>0</td>\n",
       "      <td>2</td>\n",
       "      <td>484</td>\n",
       "    </tr>\n",
       "    <tr>\n",
       "      <th>4</th>\n",
       "      <td>9025</td>\n",
       "      <td>23675</td>\n",
       "      <td>117</td>\n",
       "      <td>33</td>\n",
       "      <td>31</td>\n",
       "      <td>0</td>\n",
       "      <td>7</td>\n",
       "      <td>707</td>\n",
       "    </tr>\n",
       "    <tr>\n",
       "      <th>...</th>\n",
       "      <td>...</td>\n",
       "      <td>...</td>\n",
       "      <td>...</td>\n",
       "      <td>...</td>\n",
       "      <td>...</td>\n",
       "      <td>...</td>\n",
       "      <td>...</td>\n",
       "      <td>...</td>\n",
       "    </tr>\n",
       "    <tr>\n",
       "      <th>10684</th>\n",
       "      <td>15563</td>\n",
       "      <td>61541</td>\n",
       "      <td>253</td>\n",
       "      <td>12</td>\n",
       "      <td>40</td>\n",
       "      <td>0</td>\n",
       "      <td>7</td>\n",
       "      <td>1214</td>\n",
       "    </tr>\n",
       "    <tr>\n",
       "      <th>10685</th>\n",
       "      <td>5259</td>\n",
       "      <td>61146</td>\n",
       "      <td>65</td>\n",
       "      <td>7</td>\n",
       "      <td>68</td>\n",
       "      <td>0</td>\n",
       "      <td>6</td>\n",
       "      <td>273</td>\n",
       "    </tr>\n",
       "    <tr>\n",
       "      <th>10686</th>\n",
       "      <td>23893</td>\n",
       "      <td>39837</td>\n",
       "      <td>201</td>\n",
       "      <td>11</td>\n",
       "      <td>63</td>\n",
       "      <td>0</td>\n",
       "      <td>2</td>\n",
       "      <td>381</td>\n",
       "    </tr>\n",
       "    <tr>\n",
       "      <th>10687</th>\n",
       "      <td>11971</td>\n",
       "      <td>64195</td>\n",
       "      <td>158</td>\n",
       "      <td>0</td>\n",
       "      <td>27</td>\n",
       "      <td>4</td>\n",
       "      <td>6</td>\n",
       "      <td>618</td>\n",
       "    </tr>\n",
       "    <tr>\n",
       "      <th>10688</th>\n",
       "      <td>6857</td>\n",
       "      <td>68942</td>\n",
       "      <td>101</td>\n",
       "      <td>31</td>\n",
       "      <td>1</td>\n",
       "      <td>0</td>\n",
       "      <td>3</td>\n",
       "      <td>1021</td>\n",
       "    </tr>\n",
       "  </tbody>\n",
       "</table>\n",
       "<p>10689 rows × 8 columns</p>\n",
       "</div>"
      ],
      "text/plain": [
       "       customer_lifetime_value  income  monthly_premium_auto  \\\n",
       "0                         4809   48029                    61   \n",
       "1                         2228   92260                    64   \n",
       "2                        14947   22139                   100   \n",
       "3                        22332   49078                    97   \n",
       "4                         9025   23675                   117   \n",
       "...                        ...     ...                   ...   \n",
       "10684                    15563   61541                   253   \n",
       "10685                     5259   61146                    65   \n",
       "10686                    23893   39837                   201   \n",
       "10687                    11971   64195                   158   \n",
       "10688                     6857   68942                   101   \n",
       "\n",
       "       months_since_last_claim  months_since_policy_inception  \\\n",
       "0                            7                             52   \n",
       "1                            3                             26   \n",
       "2                           34                             31   \n",
       "3                           10                              3   \n",
       "4                           33                             31   \n",
       "...                        ...                            ...   \n",
       "10684                       12                             40   \n",
       "10685                        7                             68   \n",
       "10686                       11                             63   \n",
       "10687                        0                             27   \n",
       "10688                       31                              1   \n",
       "\n",
       "       number_of_open_complaints  number_of_policies  total_claim_amount  \n",
       "0                              0                   9                 292  \n",
       "1                              0                   1                 744  \n",
       "2                              0                   2                 480  \n",
       "3                              0                   2                 484  \n",
       "4                              0                   7                 707  \n",
       "...                          ...                 ...                 ...  \n",
       "10684                          0                   7                1214  \n",
       "10685                          0                   6                 273  \n",
       "10686                          0                   2                 381  \n",
       "10687                          4                   6                 618  \n",
       "10688                          0                   3                1021  \n",
       "\n",
       "[10689 rows x 8 columns]"
      ]
     },
     "execution_count": 884,
     "metadata": {},
     "output_type": "execute_result"
    }
   ],
   "source": [
    "numerical_df = numerical_df.select_dtypes(include=[np.number])\n",
    "numerical_df"
   ]
  },
  {
   "cell_type": "code",
   "execution_count": 885,
   "id": "581c9a24",
   "metadata": {},
   "outputs": [],
   "source": [
    "from sklearn.model_selection import train_test_split\n",
    "from sklearn.linear_model import LinearRegression"
   ]
  },
  {
   "cell_type": "code",
   "execution_count": 886,
   "id": "3356578f",
   "metadata": {},
   "outputs": [],
   "source": [
    "y_col = 'total_claim_amount'\n",
    "y = numerical_df[y_col]\n",
    "x = numerical_df[numerical_df.columns.drop(y_col)]"
   ]
  },
  {
   "cell_type": "code",
   "execution_count": 887,
   "id": "152923f4",
   "metadata": {},
   "outputs": [],
   "source": [
    "x_train, x_test, y_train, y_test=train_test_split(x, y, test_size=.30,random_state=42)"
   ]
  },
  {
   "cell_type": "code",
   "execution_count": 888,
   "id": "789b47bf",
   "metadata": {},
   "outputs": [],
   "source": [
    "std_scaler=StandardScaler().fit(x_train)   ##. finding the parameters ( mean, variance from the training set )\n",
    "\n",
    "x_train_scaled=std_scaler.transform(x_train)"
   ]
  },
  {
   "cell_type": "code",
   "execution_count": 889,
   "id": "12cab899",
   "metadata": {},
   "outputs": [
    {
     "data": {
      "text/plain": [
       "(7482, 7)"
      ]
     },
     "execution_count": 889,
     "metadata": {},
     "output_type": "execute_result"
    }
   ],
   "source": [
    "x_train.shape"
   ]
  },
  {
   "cell_type": "code",
   "execution_count": 890,
   "id": "4f9dec5d",
   "metadata": {},
   "outputs": [],
   "source": [
    "x_test_scaled=std_scaler.transform(x_test)"
   ]
  },
  {
   "cell_type": "code",
   "execution_count": 891,
   "id": "04a05604",
   "metadata": {},
   "outputs": [
    {
     "name": "stdout",
     "output_type": "stream",
     "text": [
      "[[ 0.09537036 -0.38616002 -0.2975471  ...  1.49683921  0.68183709\n",
      "  -0.41232904]\n",
      " [-0.55139048 -1.59933399  0.45573807 ... -0.5121996  -0.41999987\n",
      "  -0.82917079]\n",
      " [-0.82084995 -1.28788435 -0.87699722 ...  1.71209337 -0.41999987\n",
      "  -0.82917079]\n",
      " ...\n",
      " [-0.54732098 -1.28909716 -0.84802472 ... -1.44496762  3.98734797\n",
      "   2.08872151]\n",
      " [ 0.71713282  1.02437858  0.36882055 ...  1.49683921 -0.41999987\n",
      "  -0.41232904]\n",
      " [-0.15403225  0.47238827  0.19498551 ...  0.20531426 -0.41999987\n",
      "   1.67187975]]\n",
      "--------\n",
      "[[-0.45575708  0.84601464 -0.93494224 ...  1.06633089 -0.41999987\n",
      "   0.83819624]\n",
      " [ 0.17821389 -0.36873598  0.6295731  ...  1.06633089 -0.41999987\n",
      "   0.00451272]\n",
      " [-0.69818339  0.67306792 -0.38446462 ... -0.11756698 -0.41999987\n",
      "  -0.82917079]\n",
      " ...\n",
      " [-0.77724809 -1.22995245 -0.64521717 ...  0.27706565 -0.41999987\n",
      "  -0.82917079]\n",
      " [-0.48438897 -0.6424268   0.71649062 ...  0.06181149  0.68183709\n",
      "  -0.82917079]\n",
      " [ 2.08099884  1.92108996 -0.67418968 ... -0.76332945 -0.41999987\n",
      "  -0.41232904]]\n"
     ]
    }
   ],
   "source": [
    "print(x_train_scaled)\n",
    "print(\"--------\")\n",
    "print(x_test_scaled)"
   ]
  },
  {
   "cell_type": "code",
   "execution_count": 892,
   "id": "2512c7f6",
   "metadata": {},
   "outputs": [
    {
     "name": "stdout",
     "output_type": "stream",
     "text": [
      "                            OLS Regression Results                            \n",
      "==============================================================================\n",
      "Dep. Variable:     total_claim_amount   R-squared:                       0.409\n",
      "Model:                            OLS   Adj. R-squared:                  0.408\n",
      "Method:                 Least Squares   F-statistic:                     738.0\n",
      "Date:                Thu, 10 Nov 2022   Prob (F-statistic):               0.00\n",
      "Time:                        16:57:21   Log-Likelihood:                -51177.\n",
      "No. Observations:                7482   AIC:                         1.024e+05\n",
      "Df Residuals:                    7474   BIC:                         1.024e+05\n",
      "Df Model:                           7                                         \n",
      "Covariance Type:            nonrobust                                         \n",
      "==============================================================================\n",
      "                 coef    std err          t      P>|t|      [0.025      0.975]\n",
      "------------------------------------------------------------------------------\n",
      "const        433.3067      2.615    165.674      0.000     428.180     438.434\n",
      "x1            -6.0422      2.871     -2.104      0.035     -11.671      -0.414\n",
      "x2           -34.3526      2.616    -13.130      0.000     -39.482     -29.224\n",
      "x3           187.2859      2.870     65.252      0.000     181.659     192.912\n",
      "x4             1.6047      2.618      0.613      0.540      -3.527       6.736\n",
      "x5            -3.6115      2.617     -1.380      0.168      -8.743       1.520\n",
      "x6             1.5416      2.618      0.589      0.556      -3.590       6.673\n",
      "x7             3.3026      2.617      1.262      0.207      -1.827       8.432\n",
      "==============================================================================\n",
      "Omnibus:                      981.639   Durbin-Watson:                   2.002\n",
      "Prob(Omnibus):                  0.000   Jarque-Bera (JB):             4926.858\n",
      "Skew:                           0.537   Prob(JB):                         0.00\n",
      "Kurtosis:                       6.828   Cond. No.                         1.55\n",
      "==============================================================================\n",
      "\n",
      "Notes:\n",
      "[1] Standard Errors assume that the covariance matrix of the errors is correctly specified.\n"
     ]
    }
   ],
   "source": [
    "x_train_const_scaled = sm.add_constant(x_train_scaled) # adding a constant\n",
    "\n",
    "model = sm.OLS(y_train, x_train_const_scaled).fit()\n",
    "predictions_train = model.predict(x_train_const_scaled) \n",
    "\n",
    "x_test_const_scaled = sm.add_constant(x_test_scaled) # adding a constant\n",
    "predictions_test = model.predict(x_test_const_scaled) \n",
    "print_model = model.summary()\n",
    "print(print_model)"
   ]
  },
  {
   "cell_type": "code",
   "execution_count": 893,
   "id": "4f04a634",
   "metadata": {},
   "outputs": [
    {
     "data": {
      "text/plain": [
       "array([227.77325245, 557.51126627, 337.04484372, ..., 356.74506197,\n",
       "       588.82009904, 230.30402597])"
      ]
     },
     "execution_count": 893,
     "metadata": {},
     "output_type": "execute_result"
    }
   ],
   "source": [
    "predictions_test"
   ]
  },
  {
   "cell_type": "code",
   "execution_count": 895,
   "id": "99747304",
   "metadata": {},
   "outputs": [
    {
     "name": "stdout",
     "output_type": "stream",
     "text": [
      "0.40813883733613954\n"
     ]
    }
   ],
   "source": [
    "#display adjusted R-squared\n",
    "print(model.rsquared_adj)"
   ]
  },
  {
   "cell_type": "markdown",
   "id": "88efb56a",
   "metadata": {},
   "source": [
    "### Modeling using Scikit Learn"
   ]
  },
  {
   "cell_type": "markdown",
   "id": "fdee49a9",
   "metadata": {},
   "source": [
    "Model fitting"
   ]
  },
  {
   "cell_type": "code",
   "execution_count": 896,
   "id": "0aef5754",
   "metadata": {},
   "outputs": [
    {
     "data": {
      "text/plain": [
       "LinearRegression()"
      ]
     },
     "execution_count": 896,
     "metadata": {},
     "output_type": "execute_result"
    }
   ],
   "source": [
    "model=LinearRegression()    # model\n",
    "model.fit(x_train_scaled, y_train)   # model train"
   ]
  },
  {
   "cell_type": "markdown",
   "id": "fe6fa66f",
   "metadata": {},
   "source": [
    "<b> model parameters  ( b1,b2,b3,b4)"
   ]
  },
  {
   "cell_type": "code",
   "execution_count": 897,
   "id": "81f2bdf9",
   "metadata": {},
   "outputs": [
    {
     "data": {
      "text/html": [
       "<div>\n",
       "<style scoped>\n",
       "    .dataframe tbody tr th:only-of-type {\n",
       "        vertical-align: middle;\n",
       "    }\n",
       "\n",
       "    .dataframe tbody tr th {\n",
       "        vertical-align: top;\n",
       "    }\n",
       "\n",
       "    .dataframe thead th {\n",
       "        text-align: right;\n",
       "    }\n",
       "</style>\n",
       "<table border=\"1\" class=\"dataframe\">\n",
       "  <thead>\n",
       "    <tr style=\"text-align: right;\">\n",
       "      <th></th>\n",
       "      <th>customer_lifetime_value</th>\n",
       "      <th>income</th>\n",
       "      <th>monthly_premium_auto</th>\n",
       "      <th>months_since_last_claim</th>\n",
       "      <th>months_since_policy_inception</th>\n",
       "      <th>number_of_open_complaints</th>\n",
       "      <th>number_of_policies</th>\n",
       "    </tr>\n",
       "  </thead>\n",
       "  <tbody>\n",
       "    <tr>\n",
       "      <th>10237</th>\n",
       "      <td>8663</td>\n",
       "      <td>42169</td>\n",
       "      <td>83</td>\n",
       "      <td>18</td>\n",
       "      <td>90</td>\n",
       "      <td>1</td>\n",
       "      <td>2</td>\n",
       "    </tr>\n",
       "    <tr>\n",
       "      <th>2689</th>\n",
       "      <td>4213</td>\n",
       "      <td>12160</td>\n",
       "      <td>109</td>\n",
       "      <td>5</td>\n",
       "      <td>34</td>\n",
       "      <td>0</td>\n",
       "      <td>1</td>\n",
       "    </tr>\n",
       "    <tr>\n",
       "      <th>4489</th>\n",
       "      <td>2359</td>\n",
       "      <td>19864</td>\n",
       "      <td>63</td>\n",
       "      <td>22</td>\n",
       "      <td>96</td>\n",
       "      <td>0</td>\n",
       "      <td>1</td>\n",
       "    </tr>\n",
       "    <tr>\n",
       "      <th>10401</th>\n",
       "      <td>19511</td>\n",
       "      <td>40625</td>\n",
       "      <td>70</td>\n",
       "      <td>28</td>\n",
       "      <td>26</td>\n",
       "      <td>0</td>\n",
       "      <td>2</td>\n",
       "    </tr>\n",
       "    <tr>\n",
       "      <th>749</th>\n",
       "      <td>3576</td>\n",
       "      <td>24959</td>\n",
       "      <td>89</td>\n",
       "      <td>19</td>\n",
       "      <td>13</td>\n",
       "      <td>0</td>\n",
       "      <td>1</td>\n",
       "    </tr>\n",
       "    <tr>\n",
       "      <th>...</th>\n",
       "      <td>...</td>\n",
       "      <td>...</td>\n",
       "      <td>...</td>\n",
       "      <td>...</td>\n",
       "      <td>...</td>\n",
       "      <td>...</td>\n",
       "      <td>...</td>\n",
       "    </tr>\n",
       "    <tr>\n",
       "      <th>5734</th>\n",
       "      <td>7610</td>\n",
       "      <td>98701</td>\n",
       "      <td>94</td>\n",
       "      <td>22</td>\n",
       "      <td>66</td>\n",
       "      <td>0</td>\n",
       "      <td>3</td>\n",
       "    </tr>\n",
       "    <tr>\n",
       "      <th>5191</th>\n",
       "      <td>35186</td>\n",
       "      <td>86134</td>\n",
       "      <td>98</td>\n",
       "      <td>17</td>\n",
       "      <td>78</td>\n",
       "      <td>0</td>\n",
       "      <td>2</td>\n",
       "    </tr>\n",
       "    <tr>\n",
       "      <th>5390</th>\n",
       "      <td>4241</td>\n",
       "      <td>19834</td>\n",
       "      <td>64</td>\n",
       "      <td>26</td>\n",
       "      <td>8</td>\n",
       "      <td>4</td>\n",
       "      <td>8</td>\n",
       "    </tr>\n",
       "    <tr>\n",
       "      <th>860</th>\n",
       "      <td>12941</td>\n",
       "      <td>77060</td>\n",
       "      <td>106</td>\n",
       "      <td>23</td>\n",
       "      <td>90</td>\n",
       "      <td>0</td>\n",
       "      <td>2</td>\n",
       "    </tr>\n",
       "    <tr>\n",
       "      <th>7270</th>\n",
       "      <td>6947</td>\n",
       "      <td>63406</td>\n",
       "      <td>100</td>\n",
       "      <td>5</td>\n",
       "      <td>54</td>\n",
       "      <td>0</td>\n",
       "      <td>7</td>\n",
       "    </tr>\n",
       "  </tbody>\n",
       "</table>\n",
       "<p>7482 rows × 7 columns</p>\n",
       "</div>"
      ],
      "text/plain": [
       "       customer_lifetime_value  income  monthly_premium_auto  \\\n",
       "10237                     8663   42169                    83   \n",
       "2689                      4213   12160                   109   \n",
       "4489                      2359   19864                    63   \n",
       "10401                    19511   40625                    70   \n",
       "749                       3576   24959                    89   \n",
       "...                        ...     ...                   ...   \n",
       "5734                      7610   98701                    94   \n",
       "5191                     35186   86134                    98   \n",
       "5390                      4241   19834                    64   \n",
       "860                      12941   77060                   106   \n",
       "7270                      6947   63406                   100   \n",
       "\n",
       "       months_since_last_claim  months_since_policy_inception  \\\n",
       "10237                       18                             90   \n",
       "2689                         5                             34   \n",
       "4489                        22                             96   \n",
       "10401                       28                             26   \n",
       "749                         19                             13   \n",
       "...                        ...                            ...   \n",
       "5734                        22                             66   \n",
       "5191                        17                             78   \n",
       "5390                        26                              8   \n",
       "860                         23                             90   \n",
       "7270                         5                             54   \n",
       "\n",
       "       number_of_open_complaints  number_of_policies  \n",
       "10237                          1                   2  \n",
       "2689                           0                   1  \n",
       "4489                           0                   1  \n",
       "10401                          0                   2  \n",
       "749                            0                   1  \n",
       "...                          ...                 ...  \n",
       "5734                           0                   3  \n",
       "5191                           0                   2  \n",
       "5390                           4                   8  \n",
       "860                            0                   2  \n",
       "7270                           0                   7  \n",
       "\n",
       "[7482 rows x 7 columns]"
      ]
     },
     "execution_count": 897,
     "metadata": {},
     "output_type": "execute_result"
    }
   ],
   "source": [
    "x_train"
   ]
  },
  {
   "cell_type": "code",
   "execution_count": 898,
   "id": "28d033fc",
   "metadata": {},
   "outputs": [
    {
     "data": {
      "text/plain": [
       "array([ -6.04221236, -34.35264853, 187.28585793,   1.60473817,\n",
       "        -3.61151009,   1.54162247,   3.30263844])"
      ]
     },
     "execution_count": 898,
     "metadata": {},
     "output_type": "execute_result"
    }
   ],
   "source": [
    "model.coef_"
   ]
  },
  {
   "cell_type": "code",
   "execution_count": 899,
   "id": "c8a5d759",
   "metadata": {},
   "outputs": [
    {
     "data": {
      "text/plain": [
       "433.3067361668003"
      ]
     },
     "execution_count": 899,
     "metadata": {},
     "output_type": "execute_result"
    }
   ],
   "source": [
    "model.intercept_"
   ]
  },
  {
   "cell_type": "markdown",
   "id": "12f56493",
   "metadata": {},
   "source": [
    "<b> Making prediction"
   ]
  },
  {
   "cell_type": "code",
   "execution_count": 900,
   "id": "524c7a1b",
   "metadata": {},
   "outputs": [],
   "source": [
    "y_pred=model.predict(x_test_scaled)   # model prediction\n",
    "\n",
    "y_pred_train=model.predict(x_train_scaled)"
   ]
  },
  {
   "cell_type": "code",
   "execution_count": 901,
   "id": "c3101bb6",
   "metadata": {},
   "outputs": [
    {
     "data": {
      "text/plain": [
       "array([227.77325245, 557.51126627, 337.04484372, ..., 356.74506197,\n",
       "       588.82009904, 230.30402597])"
      ]
     },
     "execution_count": 901,
     "metadata": {},
     "output_type": "execute_result"
    }
   ],
   "source": [
    "y_pred"
   ]
  },
  {
   "cell_type": "code",
   "execution_count": 902,
   "id": "5e6ad8ff",
   "metadata": {},
   "outputs": [
    {
     "data": {
      "text/plain": [
       "3487      120\n",
       "668       660\n",
       "10315     244\n",
       "5332       86\n",
       "1523     1032\n",
       "         ... \n",
       "5928      406\n",
       "3706      321\n",
       "7735       45\n",
       "9320      597\n",
       "7924       48\n",
       "Name: total_claim_amount, Length: 3207, dtype: int64"
      ]
     },
     "execution_count": 902,
     "metadata": {},
     "output_type": "execute_result"
    }
   ],
   "source": [
    "y_test"
   ]
  },
  {
   "cell_type": "markdown",
   "id": "fb1140d2",
   "metadata": {},
   "source": [
    "## Evaluating Model Performance"
   ]
  },
  {
   "cell_type": "code",
   "execution_count": 903,
   "id": "aad03fa0",
   "metadata": {},
   "outputs": [],
   "source": [
    "result=pd.DataFrame({\"y_test\":y_test,\"y_pred\":y_pred})"
   ]
  },
  {
   "cell_type": "code",
   "execution_count": 904,
   "id": "0bc889df",
   "metadata": {},
   "outputs": [
    {
     "data": {
      "text/plain": [
       "[<matplotlib.lines.Line2D at 0x7f7983daf3a0>]"
      ]
     },
     "execution_count": 904,
     "metadata": {},
     "output_type": "execute_result"
    },
    {
     "data": {
      "image/png": "[encoded data removed]",
      "text/plain": [
       "<Figure size 1008x288 with 3 Axes>"
      ]
     },
     "metadata": {
      "needs_background": "light"
     },
     "output_type": "display_data"
    }
   ],
   "source": [
    "# Make an scatter plot y_pred vs y\n",
    "# What kind of plot you will get if all the all the predictions are ok?\n",
    "# A stright line\n",
    "\n",
    "fig, ax = plt.subplots(1,3,figsize=(14,4))\n",
    "ax[0].plot(y_pred, y_test, 'o')\n",
    "ax[0].set_xlabel(\"y_test\")\n",
    "ax[0].set_ylabel(\"y_pred\")\n",
    "ax[0].set_title(\"Test Set -Predicted vs real\")\n",
    "\n",
    "# Get a histogram of the residuals ie: y - y_pred.  Homoscdasticity\n",
    "# It resembles a normal distribution?\n",
    "ax[1].hist(y_test - y_pred)\n",
    "ax[1].set_xlabel(\"Test y-y_pred\")\n",
    "ax[1].set_title(\"Test Set Residual histogram\")\n",
    "\n",
    "ax[2].plot(y_pred,y_test - y_pred,\"o\")\n",
    "ax[2].set_xlabel(\"predited\")\n",
    "ax[2].set_ylabel(\"residuals\")\n",
    "ax[2].set_title(\"Residuals by Predicted\")\n",
    "ax[2].plot(y_pred,np.zeros(len(y_pred)),linestyle='dashed')"
   ]
  },
  {
   "cell_type": "markdown",
   "id": "249bdf33",
   "metadata": {},
   "source": [
    "<b>more fancy using seaborn"
   ]
  },
  {
   "cell_type": "code",
   "execution_count": 905,
   "id": "6b98dbce",
   "metadata": {},
   "outputs": [
    {
     "data": {
      "text/plain": [
       "<AxesSubplot:xlabel='y_pred', ylabel='y_test'>"
      ]
     },
     "execution_count": 905,
     "metadata": {},
     "output_type": "execute_result"
    },
    {
     "data": {
      "image/png": "[encoded data removed]",
      "text/plain": [
       "<Figure size 432x288 with 1 Axes>"
      ]
     },
     "metadata": {
      "needs_background": "light"
     },
     "output_type": "display_data"
    }
   ],
   "source": [
    "sns.regplot(x='y_pred',y='y_test', data=result, scatter_kws={\"color\": \"red\"}, line_kws={\"color\": \"black\"})"
   ]
  },
  {
   "cell_type": "markdown",
   "id": "8b0cd1bb",
   "metadata": {},
   "source": [
    "Model Evaluation:\n",
    "- MSE.\n",
    "- RMSE.\n",
    "- MAE.\n",
    "- R2.\n",
    "- Adjusted R2.\n",
    "- Feature Importance."
   ]
  },
  {
   "cell_type": "code",
   "execution_count": 906,
   "id": "1df9a305",
   "metadata": {},
   "outputs": [
    {
     "data": {
      "text/plain": [
       "49154.64390326823"
      ]
     },
     "execution_count": 906,
     "metadata": {},
     "output_type": "execute_result"
    }
   ],
   "source": [
    "MSE = mse(y_test, y_pred)\n",
    "MSE"
   ]
  },
  {
   "cell_type": "code",
   "execution_count": 907,
   "id": "09412890",
   "metadata": {},
   "outputs": [
    {
     "data": {
      "text/plain": [
       "221.70846601622642"
      ]
     },
     "execution_count": 907,
     "metadata": {},
     "output_type": "execute_result"
    }
   ],
   "source": [
    "RMSE = math.sqrt(MSE)\n",
    "RMSE"
   ]
  },
  {
   "cell_type": "code",
   "execution_count": 908,
   "id": "56f09dcd",
   "metadata": {},
   "outputs": [
    {
     "data": {
      "text/plain": [
       "152.83216224246735"
      ]
     },
     "execution_count": 908,
     "metadata": {},
     "output_type": "execute_result"
    }
   ],
   "source": [
    "MAE = mae(y_test, y_pred)\n",
    "MAE"
   ]
  },
  {
   "cell_type": "code",
   "execution_count": 909,
   "id": "b2246cb6",
   "metadata": {},
   "outputs": [
    {
     "data": {
      "text/plain": [
       "0.4114006217055418"
      ]
     },
     "execution_count": 909,
     "metadata": {},
     "output_type": "execute_result"
    }
   ],
   "source": [
    "R2 = r2_score(y_test, y_pred)\n",
    "R2"
   ]
  },
  {
   "cell_type": "code",
   "execution_count": 910,
   "id": "954b05e4",
   "metadata": {},
   "outputs": [
    {
     "data": {
      "text/plain": [
       "0.4101126580768888"
      ]
     },
     "execution_count": 910,
     "metadata": {},
     "output_type": "execute_result"
    }
   ],
   "source": [
    "Adj_r2 = 1-(1-R2)*(3207-1)/(3207-7-1)\n",
    "Adj_r2"
   ]
  },
  {
   "cell_type": "code",
   "execution_count": 911,
   "id": "847852ab",
   "metadata": {},
   "outputs": [],
   "source": [
    "features_importances = pd.DataFrame(data={\n",
    "    'Attribute': x_train.columns,\n",
    "    'Importance': abs(model.coef_)\n",
    "})\n",
    "features_importances = features_importances.sort_values(by='Importance', ascending=False)"
   ]
  },
  {
   "cell_type": "code",
   "execution_count": 912,
   "id": "cf02a551",
   "metadata": {},
   "outputs": [
    {
     "data": {
      "text/html": [
       "<div>\n",
       "<style scoped>\n",
       "    .dataframe tbody tr th:only-of-type {\n",
       "        vertical-align: middle;\n",
       "    }\n",
       "\n",
       "    .dataframe tbody tr th {\n",
       "        vertical-align: top;\n",
       "    }\n",
       "\n",
       "    .dataframe thead th {\n",
       "        text-align: right;\n",
       "    }\n",
       "</style>\n",
       "<table border=\"1\" class=\"dataframe\">\n",
       "  <thead>\n",
       "    <tr style=\"text-align: right;\">\n",
       "      <th></th>\n",
       "      <th>Attribute</th>\n",
       "      <th>Importance</th>\n",
       "    </tr>\n",
       "  </thead>\n",
       "  <tbody>\n",
       "    <tr>\n",
       "      <th>2</th>\n",
       "      <td>monthly_premium_auto</td>\n",
       "      <td>187.285858</td>\n",
       "    </tr>\n",
       "    <tr>\n",
       "      <th>1</th>\n",
       "      <td>income</td>\n",
       "      <td>34.352649</td>\n",
       "    </tr>\n",
       "    <tr>\n",
       "      <th>0</th>\n",
       "      <td>customer_lifetime_value</td>\n",
       "      <td>6.042212</td>\n",
       "    </tr>\n",
       "    <tr>\n",
       "      <th>4</th>\n",
       "      <td>months_since_policy_inception</td>\n",
       "      <td>3.611510</td>\n",
       "    </tr>\n",
       "    <tr>\n",
       "      <th>6</th>\n",
       "      <td>number_of_policies</td>\n",
       "      <td>3.302638</td>\n",
       "    </tr>\n",
       "    <tr>\n",
       "      <th>3</th>\n",
       "      <td>months_since_last_claim</td>\n",
       "      <td>1.604738</td>\n",
       "    </tr>\n",
       "    <tr>\n",
       "      <th>5</th>\n",
       "      <td>number_of_open_complaints</td>\n",
       "      <td>1.541622</td>\n",
       "    </tr>\n",
       "  </tbody>\n",
       "</table>\n",
       "</div>"
      ],
      "text/plain": [
       "                       Attribute  Importance\n",
       "2           monthly_premium_auto  187.285858\n",
       "1                         income   34.352649\n",
       "0        customer_lifetime_value    6.042212\n",
       "4  months_since_policy_inception    3.611510\n",
       "6             number_of_policies    3.302638\n",
       "3        months_since_last_claim    1.604738\n",
       "5      number_of_open_complaints    1.541622"
      ]
     },
     "execution_count": 912,
     "metadata": {},
     "output_type": "execute_result"
    }
   ],
   "source": [
    "features_importances"
   ]
  },
  {
   "cell_type": "markdown",
   "id": "3f58d0f9",
   "metadata": {},
   "source": [
    "Please rerun the model after adding the hot encoded categorical variables as well as other numeric categroical variables (e.g. number of open complaintes).\n",
    "(Optional) Please rerun the model after removing the outliers and compare the results using R2 metric."
   ]
  },
  {
   "cell_type": "code",
   "execution_count": 913,
   "id": "21000a99",
   "metadata": {},
   "outputs": [
    {
     "data": {
      "text/html": [
       "<div>\n",
       "<style scoped>\n",
       "    .dataframe tbody tr th:only-of-type {\n",
       "        vertical-align: middle;\n",
       "    }\n",
       "\n",
       "    .dataframe tbody tr th {\n",
       "        vertical-align: top;\n",
       "    }\n",
       "\n",
       "    .dataframe thead th {\n",
       "        text-align: right;\n",
       "    }\n",
       "</style>\n",
       "<table border=\"1\" class=\"dataframe\">\n",
       "  <thead>\n",
       "    <tr style=\"text-align: right;\">\n",
       "      <th></th>\n",
       "      <th>customer_lifetime_value</th>\n",
       "      <th>income</th>\n",
       "      <th>monthly_premium_auto</th>\n",
       "      <th>months_since_last_claim</th>\n",
       "      <th>months_since_policy_inception</th>\n",
       "      <th>number_of_open_complaints</th>\n",
       "      <th>number_of_policies</th>\n",
       "      <th>total_claim_amount</th>\n",
       "      <th>coverage</th>\n",
       "      <th>education</th>\n",
       "      <th>...</th>\n",
       "      <th>dmy_yes</th>\n",
       "      <th>dmy_rural</th>\n",
       "      <th>dmy_suburban</th>\n",
       "      <th>dmy_urban</th>\n",
       "      <th>dmy_agent</th>\n",
       "      <th>dmy_branch</th>\n",
       "      <th>dmy_call center</th>\n",
       "      <th>dmy_web</th>\n",
       "      <th>dmy_feb</th>\n",
       "      <th>dmy_jan</th>\n",
       "    </tr>\n",
       "  </thead>\n",
       "  <tbody>\n",
       "    <tr>\n",
       "      <th>0</th>\n",
       "      <td>4809</td>\n",
       "      <td>48029</td>\n",
       "      <td>61</td>\n",
       "      <td>7</td>\n",
       "      <td>52</td>\n",
       "      <td>0</td>\n",
       "      <td>9</td>\n",
       "      <td>292</td>\n",
       "      <td>1</td>\n",
       "      <td>2</td>\n",
       "      <td>...</td>\n",
       "      <td>0</td>\n",
       "      <td>0</td>\n",
       "      <td>1</td>\n",
       "      <td>0</td>\n",
       "      <td>1</td>\n",
       "      <td>0</td>\n",
       "      <td>0</td>\n",
       "      <td>0</td>\n",
       "      <td>1</td>\n",
       "      <td>0</td>\n",
       "    </tr>\n",
       "    <tr>\n",
       "      <th>1</th>\n",
       "      <td>2228</td>\n",
       "      <td>92260</td>\n",
       "      <td>64</td>\n",
       "      <td>3</td>\n",
       "      <td>26</td>\n",
       "      <td>0</td>\n",
       "      <td>1</td>\n",
       "      <td>744</td>\n",
       "      <td>1</td>\n",
       "      <td>2</td>\n",
       "      <td>...</td>\n",
       "      <td>0</td>\n",
       "      <td>0</td>\n",
       "      <td>1</td>\n",
       "      <td>0</td>\n",
       "      <td>0</td>\n",
       "      <td>0</td>\n",
       "      <td>1</td>\n",
       "      <td>0</td>\n",
       "      <td>0</td>\n",
       "      <td>1</td>\n",
       "    </tr>\n",
       "    <tr>\n",
       "      <th>2</th>\n",
       "      <td>14947</td>\n",
       "      <td>22139</td>\n",
       "      <td>100</td>\n",
       "      <td>34</td>\n",
       "      <td>31</td>\n",
       "      <td>0</td>\n",
       "      <td>2</td>\n",
       "      <td>480</td>\n",
       "      <td>1</td>\n",
       "      <td>3</td>\n",
       "      <td>...</td>\n",
       "      <td>0</td>\n",
       "      <td>0</td>\n",
       "      <td>1</td>\n",
       "      <td>0</td>\n",
       "      <td>0</td>\n",
       "      <td>0</td>\n",
       "      <td>1</td>\n",
       "      <td>0</td>\n",
       "      <td>1</td>\n",
       "      <td>0</td>\n",
       "    </tr>\n",
       "    <tr>\n",
       "      <th>3</th>\n",
       "      <td>22332</td>\n",
       "      <td>49078</td>\n",
       "      <td>97</td>\n",
       "      <td>10</td>\n",
       "      <td>3</td>\n",
       "      <td>0</td>\n",
       "      <td>2</td>\n",
       "      <td>484</td>\n",
       "      <td>2</td>\n",
       "      <td>2</td>\n",
       "      <td>...</td>\n",
       "      <td>1</td>\n",
       "      <td>0</td>\n",
       "      <td>1</td>\n",
       "      <td>0</td>\n",
       "      <td>0</td>\n",
       "      <td>1</td>\n",
       "      <td>0</td>\n",
       "      <td>0</td>\n",
       "      <td>0</td>\n",
       "      <td>1</td>\n",
       "    </tr>\n",
       "    <tr>\n",
       "      <th>4</th>\n",
       "      <td>9025</td>\n",
       "      <td>23675</td>\n",
       "      <td>117</td>\n",
       "      <td>33</td>\n",
       "      <td>31</td>\n",
       "      <td>0</td>\n",
       "      <td>7</td>\n",
       "      <td>707</td>\n",
       "      <td>3</td>\n",
       "      <td>3</td>\n",
       "      <td>...</td>\n",
       "      <td>0</td>\n",
       "      <td>0</td>\n",
       "      <td>1</td>\n",
       "      <td>0</td>\n",
       "      <td>0</td>\n",
       "      <td>1</td>\n",
       "      <td>0</td>\n",
       "      <td>0</td>\n",
       "      <td>0</td>\n",
       "      <td>1</td>\n",
       "    </tr>\n",
       "    <tr>\n",
       "      <th>...</th>\n",
       "      <td>...</td>\n",
       "      <td>...</td>\n",
       "      <td>...</td>\n",
       "      <td>...</td>\n",
       "      <td>...</td>\n",
       "      <td>...</td>\n",
       "      <td>...</td>\n",
       "      <td>...</td>\n",
       "      <td>...</td>\n",
       "      <td>...</td>\n",
       "      <td>...</td>\n",
       "      <td>...</td>\n",
       "      <td>...</td>\n",
       "      <td>...</td>\n",
       "      <td>...</td>\n",
       "      <td>...</td>\n",
       "      <td>...</td>\n",
       "      <td>...</td>\n",
       "      <td>...</td>\n",
       "      <td>...</td>\n",
       "      <td>...</td>\n",
       "    </tr>\n",
       "    <tr>\n",
       "      <th>10684</th>\n",
       "      <td>15563</td>\n",
       "      <td>61541</td>\n",
       "      <td>253</td>\n",
       "      <td>12</td>\n",
       "      <td>40</td>\n",
       "      <td>0</td>\n",
       "      <td>7</td>\n",
       "      <td>1214</td>\n",
       "      <td>3</td>\n",
       "      <td>3</td>\n",
       "      <td>...</td>\n",
       "      <td>0</td>\n",
       "      <td>0</td>\n",
       "      <td>1</td>\n",
       "      <td>0</td>\n",
       "      <td>0</td>\n",
       "      <td>0</td>\n",
       "      <td>0</td>\n",
       "      <td>1</td>\n",
       "      <td>0</td>\n",
       "      <td>1</td>\n",
       "    </tr>\n",
       "    <tr>\n",
       "      <th>10685</th>\n",
       "      <td>5259</td>\n",
       "      <td>61146</td>\n",
       "      <td>65</td>\n",
       "      <td>7</td>\n",
       "      <td>68</td>\n",
       "      <td>0</td>\n",
       "      <td>6</td>\n",
       "      <td>273</td>\n",
       "      <td>1</td>\n",
       "      <td>2</td>\n",
       "      <td>...</td>\n",
       "      <td>0</td>\n",
       "      <td>0</td>\n",
       "      <td>0</td>\n",
       "      <td>1</td>\n",
       "      <td>0</td>\n",
       "      <td>1</td>\n",
       "      <td>0</td>\n",
       "      <td>0</td>\n",
       "      <td>0</td>\n",
       "      <td>1</td>\n",
       "    </tr>\n",
       "    <tr>\n",
       "      <th>10686</th>\n",
       "      <td>23893</td>\n",
       "      <td>39837</td>\n",
       "      <td>201</td>\n",
       "      <td>11</td>\n",
       "      <td>63</td>\n",
       "      <td>0</td>\n",
       "      <td>2</td>\n",
       "      <td>381</td>\n",
       "      <td>2</td>\n",
       "      <td>3</td>\n",
       "      <td>...</td>\n",
       "      <td>0</td>\n",
       "      <td>1</td>\n",
       "      <td>0</td>\n",
       "      <td>0</td>\n",
       "      <td>0</td>\n",
       "      <td>0</td>\n",
       "      <td>0</td>\n",
       "      <td>1</td>\n",
       "      <td>1</td>\n",
       "      <td>0</td>\n",
       "    </tr>\n",
       "    <tr>\n",
       "      <th>10687</th>\n",
       "      <td>11971</td>\n",
       "      <td>64195</td>\n",
       "      <td>158</td>\n",
       "      <td>0</td>\n",
       "      <td>27</td>\n",
       "      <td>4</td>\n",
       "      <td>6</td>\n",
       "      <td>618</td>\n",
       "      <td>3</td>\n",
       "      <td>2</td>\n",
       "      <td>...</td>\n",
       "      <td>0</td>\n",
       "      <td>0</td>\n",
       "      <td>0</td>\n",
       "      <td>1</td>\n",
       "      <td>0</td>\n",
       "      <td>1</td>\n",
       "      <td>0</td>\n",
       "      <td>0</td>\n",
       "      <td>1</td>\n",
       "      <td>0</td>\n",
       "    </tr>\n",
       "    <tr>\n",
       "      <th>10688</th>\n",
       "      <td>6857</td>\n",
       "      <td>68942</td>\n",
       "      <td>101</td>\n",
       "      <td>31</td>\n",
       "      <td>1</td>\n",
       "      <td>0</td>\n",
       "      <td>3</td>\n",
       "      <td>1021</td>\n",
       "      <td>1</td>\n",
       "      <td>3</td>\n",
       "      <td>...</td>\n",
       "      <td>0</td>\n",
       "      <td>0</td>\n",
       "      <td>1</td>\n",
       "      <td>0</td>\n",
       "      <td>0</td>\n",
       "      <td>0</td>\n",
       "      <td>0</td>\n",
       "      <td>1</td>\n",
       "      <td>0</td>\n",
       "      <td>1</td>\n",
       "    </tr>\n",
       "  </tbody>\n",
       "</table>\n",
       "<p>10689 rows × 46 columns</p>\n",
       "</div>"
      ],
      "text/plain": [
       "       customer_lifetime_value  income  monthly_premium_auto  \\\n",
       "0                         4809   48029                    61   \n",
       "1                         2228   92260                    64   \n",
       "2                        14947   22139                   100   \n",
       "3                        22332   49078                    97   \n",
       "4                         9025   23675                   117   \n",
       "...                        ...     ...                   ...   \n",
       "10684                    15563   61541                   253   \n",
       "10685                     5259   61146                    65   \n",
       "10686                    23893   39837                   201   \n",
       "10687                    11971   64195                   158   \n",
       "10688                     6857   68942                   101   \n",
       "\n",
       "       months_since_last_claim  months_since_policy_inception  \\\n",
       "0                            7                             52   \n",
       "1                            3                             26   \n",
       "2                           34                             31   \n",
       "3                           10                              3   \n",
       "4                           33                             31   \n",
       "...                        ...                            ...   \n",
       "10684                       12                             40   \n",
       "10685                        7                             68   \n",
       "10686                       11                             63   \n",
       "10687                        0                             27   \n",
       "10688                       31                              1   \n",
       "\n",
       "       number_of_open_complaints  number_of_policies  total_claim_amount  \\\n",
       "0                              0                   9                 292   \n",
       "1                              0                   1                 744   \n",
       "2                              0                   2                 480   \n",
       "3                              0                   2                 484   \n",
       "4                              0                   7                 707   \n",
       "...                          ...                 ...                 ...   \n",
       "10684                          0                   7                1214   \n",
       "10685                          0                   6                 273   \n",
       "10686                          0                   2                 381   \n",
       "10687                          4                   6                 618   \n",
       "10688                          0                   3                1021   \n",
       "\n",
       "       coverage  education  ...  dmy_yes  dmy_rural  dmy_suburban  dmy_urban  \\\n",
       "0             1          2  ...        0          0             1          0   \n",
       "1             1          2  ...        0          0             1          0   \n",
       "2             1          3  ...        0          0             1          0   \n",
       "3             2          2  ...        1          0             1          0   \n",
       "4             3          3  ...        0          0             1          0   \n",
       "...         ...        ...  ...      ...        ...           ...        ...   \n",
       "10684         3          3  ...        0          0             1          0   \n",
       "10685         1          2  ...        0          0             0          1   \n",
       "10686         2          3  ...        0          1             0          0   \n",
       "10687         3          2  ...        0          0             0          1   \n",
       "10688         1          3  ...        0          0             1          0   \n",
       "\n",
       "       dmy_agent  dmy_branch  dmy_call center  dmy_web  dmy_feb  dmy_jan  \n",
       "0              1           0                0        0        1        0  \n",
       "1              0           0                1        0        0        1  \n",
       "2              0           0                1        0        1        0  \n",
       "3              0           1                0        0        0        1  \n",
       "4              0           1                0        0        0        1  \n",
       "...          ...         ...              ...      ...      ...      ...  \n",
       "10684          0           0                0        1        0        1  \n",
       "10685          0           1                0        0        0        1  \n",
       "10686          0           0                0        1        1        0  \n",
       "10687          0           1                0        0        1        0  \n",
       "10688          0           0                0        1        0        1  \n",
       "\n",
       "[10689 rows x 46 columns]"
      ]
     },
     "execution_count": 913,
     "metadata": {},
     "output_type": "execute_result"
    }
   ],
   "source": [
    "final_df = numerical_df.join(cate_df)\n",
    "final_df"
   ]
  },
  {
   "cell_type": "code",
   "execution_count": 914,
   "id": "1feec2ad",
   "metadata": {},
   "outputs": [],
   "source": [
    "y_col = 'total_claim_amount'\n",
    "y = final_df[y_col]\n",
    "x = final_df[final_df.columns.drop(y_col)]"
   ]
  },
  {
   "cell_type": "code",
   "execution_count": 915,
   "id": "0384fd70",
   "metadata": {},
   "outputs": [],
   "source": [
    "x_train, x_test, y_train, y_test=train_test_split(x, y, test_size=.30,random_state=42)"
   ]
  },
  {
   "cell_type": "code",
   "execution_count": 916,
   "id": "c286ddcb",
   "metadata": {},
   "outputs": [],
   "source": [
    "std_scaler=StandardScaler().fit(x_train)   ##. finding the parameters ( mean, variance from the training set )\n",
    "\n",
    "x_train_scaled=std_scaler.transform(x_train)"
   ]
  },
  {
   "cell_type": "code",
   "execution_count": 917,
   "id": "0e031542",
   "metadata": {},
   "outputs": [
    {
     "data": {
      "text/plain": [
       "(7482, 45)"
      ]
     },
     "execution_count": 917,
     "metadata": {},
     "output_type": "execute_result"
    }
   ],
   "source": [
    "x_train.shape"
   ]
  },
  {
   "cell_type": "code",
   "execution_count": 918,
   "id": "06ed11d4",
   "metadata": {},
   "outputs": [],
   "source": [
    "x_test_scaled=std_scaler.transform(x_test)"
   ]
  },
  {
   "cell_type": "code",
   "execution_count": 919,
   "id": "f608ffb0",
   "metadata": {},
   "outputs": [
    {
     "name": "stdout",
     "output_type": "stream",
     "text": [
      "[[ 0.09537036 -0.38616002 -0.2975471  ... -0.42353523  1.06635064\n",
      "  -1.06635064]\n",
      " [-0.55139048 -1.59933399  0.45573807 ... -0.42353523 -0.93777784\n",
      "   0.93777784]\n",
      " [-0.82084995 -1.28788435 -0.87699722 ...  2.36107866 -0.93777784\n",
      "   0.93777784]\n",
      " ...\n",
      " [-0.54732098 -1.28909716 -0.84802472 ... -0.42353523  1.06635064\n",
      "  -1.06635064]\n",
      " [ 0.71713282  1.02437858  0.36882055 ... -0.42353523 -0.93777784\n",
      "   0.93777784]\n",
      " [-0.15403225  0.47238827  0.19498551 ... -0.42353523 -0.93777784\n",
      "   0.93777784]]\n",
      "--------\n",
      "[[-0.45575708  0.84601464 -0.93494224 ... -0.42353523 -0.93777784\n",
      "   0.93777784]\n",
      " [ 0.17821389 -0.36873598  0.6295731  ... -0.42353523  1.06635064\n",
      "  -1.06635064]\n",
      " [-0.69818339  0.67306792 -0.38446462 ... -0.42353523  1.06635064\n",
      "  -1.06635064]\n",
      " ...\n",
      " [-0.77724809 -1.22995245 -0.64521717 ... -0.42353523 -0.93777784\n",
      "   0.93777784]\n",
      " [-0.48438897 -0.6424268   0.71649062 ... -0.42353523  1.06635064\n",
      "  -1.06635064]\n",
      " [ 2.08099884  1.92108996 -0.67418968 ... -0.42353523 -0.93777784\n",
      "   0.93777784]]\n"
     ]
    }
   ],
   "source": [
    "print(x_train_scaled)\n",
    "print(\"--------\")\n",
    "print(x_test_scaled)"
   ]
  },
  {
   "cell_type": "code",
   "execution_count": 920,
   "id": "ed39c369",
   "metadata": {},
   "outputs": [
    {
     "name": "stdout",
     "output_type": "stream",
     "text": [
      "                            OLS Regression Results                            \n",
      "==============================================================================\n",
      "Dep. Variable:     total_claim_amount   R-squared:                       0.753\n",
      "Model:                            OLS   Adj. R-squared:                  0.752\n",
      "Method:                 Least Squares   F-statistic:                     668.9\n",
      "Date:                Thu, 10 Nov 2022   Prob (F-statistic):               0.00\n",
      "Time:                        16:57:54   Log-Likelihood:                -47906.\n",
      "No. Observations:                7482   AIC:                         9.588e+04\n",
      "Df Residuals:                    7447   BIC:                         9.612e+04\n",
      "Df Model:                          34                                         \n",
      "Covariance Type:            nonrobust                                         \n",
      "==============================================================================\n",
      "                 coef    std err          t      P>|t|      [0.025      0.975]\n",
      "------------------------------------------------------------------------------\n",
      "const        433.3067      1.692    256.037      0.000     429.989     436.624\n",
      "x1            -0.2580      1.869     -0.138      0.890      -3.921       3.405\n",
      "x2             3.1088      1.876      1.657      0.098      -0.569       6.786\n",
      "x3           185.3143      4.285     43.250      0.000     176.915     193.714\n",
      "x4             3.4828      1.698      2.051      0.040       0.153       6.812\n",
      "x5            -1.1526      1.707     -0.675      0.500      -4.499       2.194\n",
      "x6            -1.1502      1.698     -0.677      0.498      -4.479       2.179\n",
      "x7             2.4520      1.704      1.439      0.150      -0.889       5.793\n",
      "x8            -8.0268      2.512     -3.196      0.001     -12.950      -3.103\n",
      "x9            -5.8970      1.724     -3.421      0.001      -9.276      -2.518\n",
      "x10          -11.4897      1.945     -5.907      0.000     -15.302      -7.677\n",
      "x11            0.9609      1.787      0.538      0.591      -2.542       4.464\n",
      "x12          -10.2726      3.755     -2.735      0.006     -17.634      -2.911\n",
      "x13            1.9012      1.713      1.110      0.267      -1.457       5.259\n",
      "x14            0.6885      1.507      0.457      0.648      -2.265       3.642\n",
      "x15           -1.1522      1.403     -0.821      0.412      -3.903       1.599\n",
      "x16            0.6538      1.195      0.547      0.584      -1.688       2.995\n",
      "x17            1.6294      1.372      1.188      0.235      -1.060       4.318\n",
      "x18           -0.5838      1.216     -0.480      0.631      -2.968       1.800\n",
      "x19           -0.8832      1.075     -0.821      0.411      -2.991       1.225\n",
      "x20            3.2308      1.565      2.064      0.039       0.163       6.299\n",
      "x21           -0.8335      1.368     -0.609      0.542      -3.515       1.848\n",
      "x22           -0.9323      1.405     -0.663      0.507      -3.687       1.822\n",
      "x23            0.1478      0.590      0.251      0.802      -1.008       1.304\n",
      "x24           -0.2538      0.552     -0.460      0.646      -1.336       0.829\n",
      "x25            0.2533      0.795      0.319      0.750      -1.305       1.812\n",
      "x26           -3.1020      0.855     -3.628      0.000      -4.778      -1.426\n",
      "x27            3.1020      0.855      3.628      0.000       1.426       4.778\n",
      "x28          -12.2303      1.342     -9.111      0.000     -14.862      -9.599\n",
      "x29          -16.0769      0.997    -16.121      0.000     -18.032     -14.122\n",
      "x30           27.5051      1.153     23.855      0.000      25.245      29.765\n",
      "x31           -0.1795      1.211     -0.148      0.882      -2.554       2.195\n",
      "x32            0.1801      1.510      0.119      0.905      -2.780       3.140\n",
      "x33           -1.2518      1.217     -1.028      0.304      -3.638       1.135\n",
      "x34            1.2417      1.156      1.074      0.283      -1.024       3.508\n",
      "x35            5.9256      0.876      6.764      0.000       4.208       7.643\n",
      "x36           -5.9256      0.876     -6.764      0.000      -7.643      -4.208\n",
      "x37          -93.8728      1.251    -75.034      0.000     -96.325     -91.420\n",
      "x38           81.2273      1.068     76.073      0.000      79.134      83.320\n",
      "x39           -4.8451      1.289     -3.759      0.000      -7.372      -2.318\n",
      "x40            0.4252      1.159      0.367      0.714      -1.846       2.697\n",
      "x41           -1.2240      1.237     -0.989      0.322      -3.649       1.201\n",
      "x42            0.6048      1.323      0.457      0.647      -1.988       3.197\n",
      "x43            0.2672      1.404      0.190      0.849      -2.485       3.020\n",
      "x44           -0.8443      0.849     -0.995      0.320      -2.508       0.820\n",
      "x45            0.8443      0.849      0.995      0.320      -0.820       2.508\n",
      "==============================================================================\n",
      "Omnibus:                     3648.301   Durbin-Watson:                   1.995\n",
      "Prob(Omnibus):                  0.000   Jarque-Bera (JB):            46431.934\n",
      "Skew:                           2.017   Prob(JB):                         0.00\n",
      "Kurtosis:                      14.518   Cond. No.                     3.43e+16\n",
      "==============================================================================\n",
      "\n",
      "Notes:\n",
      "[1] Standard Errors assume that the covariance matrix of the errors is correctly specified.\n",
      "[2] The smallest eigenvalue is 1.98e-29. This might indicate that there are\n",
      "strong multicollinearity problems or that the design matrix is singular.\n"
     ]
    }
   ],
   "source": [
    "x_train_const_scaled = sm.add_constant(x_train_scaled) # adding a constant\n",
    "\n",
    "model = sm.OLS(y_train, x_train_const_scaled).fit()\n",
    "predictions_train = model.predict(x_train_const_scaled) \n",
    "\n",
    "x_test_const_scaled = sm.add_constant(x_test_scaled) # adding a constant\n",
    "predictions_test = model.predict(x_test_const_scaled) \n",
    "print_model = model.summary()\n",
    "print(print_model)"
   ]
  },
  {
   "cell_type": "code",
   "execution_count": 921,
   "id": "3671bb4c",
   "metadata": {},
   "outputs": [
    {
     "data": {
      "text/plain": [
       "array([-58.63126663, 617.72273277, 258.14500656, ..., 100.65581443,\n",
       "       635.33785481, 102.05835475])"
      ]
     },
     "execution_count": 921,
     "metadata": {},
     "output_type": "execute_result"
    }
   ],
   "source": [
    "predictions_test"
   ]
  },
  {
   "cell_type": "code",
   "execution_count": 922,
   "id": "bf879596",
   "metadata": {},
   "outputs": [
    {
     "name": "stdout",
     "output_type": "stream",
     "text": [
      "0.7521862864439745\n"
     ]
    }
   ],
   "source": [
    "#display adjusted R-squared\n",
    "print(model.rsquared_adj)"
   ]
  },
  {
   "cell_type": "markdown",
   "id": "3be7b811",
   "metadata": {},
   "source": [
    "### Modeling using Scikit Learn"
   ]
  },
  {
   "cell_type": "code",
   "execution_count": 923,
   "id": "edea8bac",
   "metadata": {},
   "outputs": [
    {
     "data": {
      "text/plain": [
       "LinearRegression()"
      ]
     },
     "execution_count": 923,
     "metadata": {},
     "output_type": "execute_result"
    }
   ],
   "source": [
    "model=LinearRegression()    # model\n",
    "model.fit(x_train_scaled, y_train)   # model train"
   ]
  },
  {
   "cell_type": "code",
   "execution_count": 924,
   "id": "40a1f9b9",
   "metadata": {},
   "outputs": [
    {
     "data": {
      "text/plain": [
       "array([-59.39156335, 618.10170533, 259.75795533, ..., 101.10843665,\n",
       "       631.69545533, 106.63968665])"
      ]
     },
     "execution_count": 924,
     "metadata": {},
     "output_type": "execute_result"
    }
   ],
   "source": [
    "y_pred = model.predict(x_test_scaled)\n",
    "y_pred"
   ]
  },
  {
   "cell_type": "code",
   "execution_count": 925,
   "id": "6734a5a4",
   "metadata": {},
   "outputs": [
    {
     "data": {
      "text/plain": [
       "array([-2.64892375e-01,  3.46711972e+00,  1.85634920e+02,  2.86943166e+00,\n",
       "       -3.23334143e-01, -1.37818266e+00,  2.43655783e+00, -8.81170340e+00,\n",
       "       -5.94884914e+00, -1.18327195e+01,  1.04354214e+00, -1.02178413e+01,\n",
       "        2.46963623e+00, -2.81261971e+14, -3.50260326e+14, -4.54712122e+14,\n",
       "        2.29058903e+14,  2.79951835e+14,  3.21047103e+14,  2.35728359e+14,\n",
       "        3.63290809e+14,  3.43812505e+14,  7.01811138e+14, -1.73274009e+14,\n",
       "       -4.92689635e+14, -1.65460703e+12, -1.65460703e+12,  1.07488945e+15,\n",
       "        1.50239327e+15,  1.35610962e+15,  7.17061759e+14,  4.43158387e+14,\n",
       "        7.12339390e+14,  7.57528281e+14,  2.53376073e+14,  2.53376073e+14,\n",
       "        3.82559781e+14,  4.63762119e+14,  3.62880792e+14, -7.39249181e+13,\n",
       "       -6.79301984e+13, -6.12835137e+13, -5.48473310e+13, -1.21951283e+14,\n",
       "       -1.21951283e+14])"
      ]
     },
     "execution_count": 925,
     "metadata": {},
     "output_type": "execute_result"
    }
   ],
   "source": [
    "model.coef_"
   ]
  },
  {
   "cell_type": "markdown",
   "id": "9dc73d04",
   "metadata": {},
   "source": [
    "## Evaluating Model Performance"
   ]
  },
  {
   "cell_type": "code",
   "execution_count": 926,
   "id": "a3645901",
   "metadata": {},
   "outputs": [],
   "source": [
    "result1=pd.DataFrame({\"y_test\":y_test,\"y_pred\":y_pred})"
   ]
  },
  {
   "cell_type": "code",
   "execution_count": 927,
   "id": "7dd97376",
   "metadata": {},
   "outputs": [
    {
     "data": {
      "text/plain": [
       "[<matplotlib.lines.Line2D at 0x7f7982b31df0>]"
      ]
     },
     "execution_count": 927,
     "metadata": {},
     "output_type": "execute_result"
    },
    {
     "data": {
      "image/png": "[encoded data removed]",
      "text/plain": [
       "<Figure size 1008x288 with 3 Axes>"
      ]
     },
     "metadata": {
      "needs_background": "light"
     },
     "output_type": "display_data"
    }
   ],
   "source": [
    "# Make an scatter plot y_pred vs y\n",
    "# What kind of plot you will get if all the all the predictions are ok?\n",
    "# A stright line\n",
    "\n",
    "fig, ax = plt.subplots(1,3,figsize=(14,4))\n",
    "ax[0].plot(y_pred, y_test, 'o')\n",
    "ax[0].set_xlabel(\"y_test\")\n",
    "ax[0].set_ylabel(\"y_pred\")\n",
    "ax[0].set_title(\"Test Set -Predicted vs real\")\n",
    "\n",
    "# Get a histogram of the residuals ie: y - y_pred.  Homoscdasticity\n",
    "# It resembles a normal distribution?\n",
    "ax[1].hist(y_test - y_pred)\n",
    "ax[1].set_xlabel(\"Test y-y_pred\")\n",
    "ax[1].set_title(\"Test Set Residual histogram\")\n",
    "\n",
    "ax[2].plot(y_pred,y_test - y_pred,\"o\")\n",
    "ax[2].set_xlabel(\"predited\")\n",
    "ax[2].set_ylabel(\"residuals\")\n",
    "ax[2].set_title(\"Residuals by Predicted\")\n",
    "ax[2].plot(y_pred,np.zeros(len(y_pred)),linestyle='dashed')"
   ]
  },
  {
   "cell_type": "code",
   "execution_count": 928,
   "id": "1ba12bca",
   "metadata": {},
   "outputs": [
    {
     "data": {
      "text/plain": [
       "<AxesSubplot:xlabel='y_pred', ylabel='y_test'>"
      ]
     },
     "execution_count": 928,
     "metadata": {},
     "output_type": "execute_result"
    },
    {
     "data": {
      "image/png": "[encoded data removed]",
      "text/plain": [
       "<Figure size 432x288 with 1 Axes>"
      ]
     },
     "metadata": {
      "needs_background": "light"
     },
     "output_type": "display_data"
    }
   ],
   "source": [
    "sns.regplot(x='y_pred',y='y_test', data=result1, scatter_kws={\"color\": \"red\"}, line_kws={\"color\": \"black\"})"
   ]
  },
  {
   "cell_type": "code",
   "execution_count": 930,
   "id": "c6214f9b",
   "metadata": {},
   "outputs": [
    {
     "data": {
      "text/plain": [
       "19188.201795952795"
      ]
     },
     "execution_count": 930,
     "metadata": {},
     "output_type": "execute_result"
    }
   ],
   "source": [
    "MSE1 = mse(y_test, y_pred)\n",
    "MSE1"
   ]
  },
  {
   "cell_type": "code",
   "execution_count": 931,
   "id": "7dac3777",
   "metadata": {},
   "outputs": [
    {
     "data": {
      "text/plain": [
       "221.70846601622642"
      ]
     },
     "execution_count": 931,
     "metadata": {},
     "output_type": "execute_result"
    }
   ],
   "source": [
    "RMSE1 = math.sqrt(MSE)\n",
    "RMSE1"
   ]
  },
  {
   "cell_type": "code",
   "execution_count": 932,
   "id": "3e4e7e6a",
   "metadata": {},
   "outputs": [
    {
     "data": {
      "text/plain": [
       "97.06869553544855"
      ]
     },
     "execution_count": 932,
     "metadata": {},
     "output_type": "execute_result"
    }
   ],
   "source": [
    "MAE1 = mae(y_test, y_pred)\n",
    "MAE1"
   ]
  },
  {
   "cell_type": "code",
   "execution_count": 933,
   "id": "e798475d",
   "metadata": {},
   "outputs": [
    {
     "data": {
      "text/plain": [
       "0.7702320116505719"
      ]
     },
     "execution_count": 933,
     "metadata": {},
     "output_type": "execute_result"
    }
   ],
   "source": [
    "R21 = r2_score(y_test, y_pred)\n",
    "R21"
   ]
  },
  {
   "cell_type": "code",
   "execution_count": 934,
   "id": "c3dce57a",
   "metadata": {},
   "outputs": [
    {
     "data": {
      "text/plain": [
       "0.7697292370589977"
      ]
     },
     "execution_count": 934,
     "metadata": {},
     "output_type": "execute_result"
    }
   ],
   "source": [
    "Adj_r2_1 = 1-(1-R21)*(3207-1)/(3207-7-1)\n",
    "Adj_r2_1"
   ]
  },
  {
   "cell_type": "code",
   "execution_count": 935,
   "id": "4fa15721",
   "metadata": {},
   "outputs": [],
   "source": [
    "features_importances = pd.DataFrame(data={\n",
    "    'Attribute': x_train.columns,\n",
    "    'Importance': abs(model.coef_)\n",
    "})\n",
    "features_importances = features_importances.sort_values(by='Importance', ascending=False)"
   ]
  },
  {
   "cell_type": "code",
   "execution_count": 936,
   "id": "b572e564",
   "metadata": {},
   "outputs": [
    {
     "data": {
      "text/html": [
       "<div>\n",
       "<style scoped>\n",
       "    .dataframe tbody tr th:only-of-type {\n",
       "        vertical-align: middle;\n",
       "    }\n",
       "\n",
       "    .dataframe tbody tr th {\n",
       "        vertical-align: top;\n",
       "    }\n",
       "\n",
       "    .dataframe thead th {\n",
       "        text-align: right;\n",
       "    }\n",
       "</style>\n",
       "<table border=\"1\" class=\"dataframe\">\n",
       "  <thead>\n",
       "    <tr style=\"text-align: right;\">\n",
       "      <th></th>\n",
       "      <th>Attribute</th>\n",
       "      <th>Importance</th>\n",
       "    </tr>\n",
       "  </thead>\n",
       "  <tbody>\n",
       "    <tr>\n",
       "      <th>28</th>\n",
       "      <td>dmy_married</td>\n",
       "      <td>1.502393e+15</td>\n",
       "    </tr>\n",
       "    <tr>\n",
       "      <th>29</th>\n",
       "      <td>dmy_single</td>\n",
       "      <td>1.356110e+15</td>\n",
       "    </tr>\n",
       "    <tr>\n",
       "      <th>27</th>\n",
       "      <td>dmy_divorced</td>\n",
       "      <td>1.074889e+15</td>\n",
       "    </tr>\n",
       "    <tr>\n",
       "      <th>33</th>\n",
       "      <td>dmy_west region</td>\n",
       "      <td>7.575283e+14</td>\n",
       "    </tr>\n",
       "    <tr>\n",
       "      <th>30</th>\n",
       "      <td>dmy_central</td>\n",
       "      <td>7.170618e+14</td>\n",
       "    </tr>\n",
       "    <tr>\n",
       "      <th>32</th>\n",
       "      <td>dmy_north west</td>\n",
       "      <td>7.123394e+14</td>\n",
       "    </tr>\n",
       "    <tr>\n",
       "      <th>22</th>\n",
       "      <td>dmy_corporate auto</td>\n",
       "      <td>7.018111e+14</td>\n",
       "    </tr>\n",
       "    <tr>\n",
       "      <th>24</th>\n",
       "      <td>dmy_special auto</td>\n",
       "      <td>4.926896e+14</td>\n",
       "    </tr>\n",
       "    <tr>\n",
       "      <th>37</th>\n",
       "      <td>dmy_suburban</td>\n",
       "      <td>4.637621e+14</td>\n",
       "    </tr>\n",
       "    <tr>\n",
       "      <th>15</th>\n",
       "      <td>dmy_corporate l3</td>\n",
       "      <td>4.547121e+14</td>\n",
       "    </tr>\n",
       "    <tr>\n",
       "      <th>31</th>\n",
       "      <td>dmy_east</td>\n",
       "      <td>4.431584e+14</td>\n",
       "    </tr>\n",
       "    <tr>\n",
       "      <th>36</th>\n",
       "      <td>dmy_rural</td>\n",
       "      <td>3.825598e+14</td>\n",
       "    </tr>\n",
       "    <tr>\n",
       "      <th>20</th>\n",
       "      <td>dmy_special l2</td>\n",
       "      <td>3.632908e+14</td>\n",
       "    </tr>\n",
       "    <tr>\n",
       "      <th>38</th>\n",
       "      <td>dmy_urban</td>\n",
       "      <td>3.628808e+14</td>\n",
       "    </tr>\n",
       "    <tr>\n",
       "      <th>14</th>\n",
       "      <td>dmy_corporate l2</td>\n",
       "      <td>3.502603e+14</td>\n",
       "    </tr>\n",
       "    <tr>\n",
       "      <th>21</th>\n",
       "      <td>dmy_special l3</td>\n",
       "      <td>3.438125e+14</td>\n",
       "    </tr>\n",
       "    <tr>\n",
       "      <th>18</th>\n",
       "      <td>dmy_personal l3</td>\n",
       "      <td>3.210471e+14</td>\n",
       "    </tr>\n",
       "    <tr>\n",
       "      <th>13</th>\n",
       "      <td>dmy_corporate l1</td>\n",
       "      <td>2.812620e+14</td>\n",
       "    </tr>\n",
       "    <tr>\n",
       "      <th>17</th>\n",
       "      <td>dmy_personal l2</td>\n",
       "      <td>2.799518e+14</td>\n",
       "    </tr>\n",
       "    <tr>\n",
       "      <th>34</th>\n",
       "      <td>dmy_no</td>\n",
       "      <td>2.533761e+14</td>\n",
       "    </tr>\n",
       "    <tr>\n",
       "      <th>35</th>\n",
       "      <td>dmy_yes</td>\n",
       "      <td>2.533761e+14</td>\n",
       "    </tr>\n",
       "    <tr>\n",
       "      <th>19</th>\n",
       "      <td>dmy_special l1</td>\n",
       "      <td>2.357284e+14</td>\n",
       "    </tr>\n",
       "    <tr>\n",
       "      <th>16</th>\n",
       "      <td>dmy_personal l1</td>\n",
       "      <td>2.290589e+14</td>\n",
       "    </tr>\n",
       "    <tr>\n",
       "      <th>23</th>\n",
       "      <td>dmy_personal auto</td>\n",
       "      <td>1.732740e+14</td>\n",
       "    </tr>\n",
       "    <tr>\n",
       "      <th>43</th>\n",
       "      <td>dmy_feb</td>\n",
       "      <td>1.219513e+14</td>\n",
       "    </tr>\n",
       "    <tr>\n",
       "      <th>44</th>\n",
       "      <td>dmy_jan</td>\n",
       "      <td>1.219513e+14</td>\n",
       "    </tr>\n",
       "    <tr>\n",
       "      <th>39</th>\n",
       "      <td>dmy_agent</td>\n",
       "      <td>7.392492e+13</td>\n",
       "    </tr>\n",
       "    <tr>\n",
       "      <th>40</th>\n",
       "      <td>dmy_branch</td>\n",
       "      <td>6.793020e+13</td>\n",
       "    </tr>\n",
       "    <tr>\n",
       "      <th>41</th>\n",
       "      <td>dmy_call center</td>\n",
       "      <td>6.128351e+13</td>\n",
       "    </tr>\n",
       "    <tr>\n",
       "      <th>42</th>\n",
       "      <td>dmy_web</td>\n",
       "      <td>5.484733e+13</td>\n",
       "    </tr>\n",
       "    <tr>\n",
       "      <th>25</th>\n",
       "      <td>dmy_f</td>\n",
       "      <td>1.654607e+12</td>\n",
       "    </tr>\n",
       "    <tr>\n",
       "      <th>26</th>\n",
       "      <td>dmy_m</td>\n",
       "      <td>1.654607e+12</td>\n",
       "    </tr>\n",
       "    <tr>\n",
       "      <th>2</th>\n",
       "      <td>monthly_premium_auto</td>\n",
       "      <td>1.856349e+02</td>\n",
       "    </tr>\n",
       "    <tr>\n",
       "      <th>9</th>\n",
       "      <td>employment_status</td>\n",
       "      <td>1.183272e+01</td>\n",
       "    </tr>\n",
       "    <tr>\n",
       "      <th>11</th>\n",
       "      <td>vehicle_class</td>\n",
       "      <td>1.021784e+01</td>\n",
       "    </tr>\n",
       "    <tr>\n",
       "      <th>7</th>\n",
       "      <td>coverage</td>\n",
       "      <td>8.811703e+00</td>\n",
       "    </tr>\n",
       "    <tr>\n",
       "      <th>8</th>\n",
       "      <td>education</td>\n",
       "      <td>5.948849e+00</td>\n",
       "    </tr>\n",
       "    <tr>\n",
       "      <th>1</th>\n",
       "      <td>income</td>\n",
       "      <td>3.467120e+00</td>\n",
       "    </tr>\n",
       "    <tr>\n",
       "      <th>3</th>\n",
       "      <td>months_since_last_claim</td>\n",
       "      <td>2.869432e+00</td>\n",
       "    </tr>\n",
       "    <tr>\n",
       "      <th>12</th>\n",
       "      <td>vehicle_size</td>\n",
       "      <td>2.469636e+00</td>\n",
       "    </tr>\n",
       "    <tr>\n",
       "      <th>6</th>\n",
       "      <td>number_of_policies</td>\n",
       "      <td>2.436558e+00</td>\n",
       "    </tr>\n",
       "    <tr>\n",
       "      <th>5</th>\n",
       "      <td>number_of_open_complaints</td>\n",
       "      <td>1.378183e+00</td>\n",
       "    </tr>\n",
       "    <tr>\n",
       "      <th>10</th>\n",
       "      <td>renew_offer_type</td>\n",
       "      <td>1.043542e+00</td>\n",
       "    </tr>\n",
       "    <tr>\n",
       "      <th>4</th>\n",
       "      <td>months_since_policy_inception</td>\n",
       "      <td>3.233341e-01</td>\n",
       "    </tr>\n",
       "    <tr>\n",
       "      <th>0</th>\n",
       "      <td>customer_lifetime_value</td>\n",
       "      <td>2.648924e-01</td>\n",
       "    </tr>\n",
       "  </tbody>\n",
       "</table>\n",
       "</div>"
      ],
      "text/plain": [
       "                        Attribute    Importance\n",
       "28                    dmy_married  1.502393e+15\n",
       "29                     dmy_single  1.356110e+15\n",
       "27                   dmy_divorced  1.074889e+15\n",
       "33                dmy_west region  7.575283e+14\n",
       "30                    dmy_central  7.170618e+14\n",
       "32                 dmy_north west  7.123394e+14\n",
       "22             dmy_corporate auto  7.018111e+14\n",
       "24               dmy_special auto  4.926896e+14\n",
       "37                   dmy_suburban  4.637621e+14\n",
       "15               dmy_corporate l3  4.547121e+14\n",
       "31                       dmy_east  4.431584e+14\n",
       "36                      dmy_rural  3.825598e+14\n",
       "20                 dmy_special l2  3.632908e+14\n",
       "38                      dmy_urban  3.628808e+14\n",
       "14               dmy_corporate l2  3.502603e+14\n",
       "21                 dmy_special l3  3.438125e+14\n",
       "18                dmy_personal l3  3.210471e+14\n",
       "13               dmy_corporate l1  2.812620e+14\n",
       "17                dmy_personal l2  2.799518e+14\n",
       "34                         dmy_no  2.533761e+14\n",
       "35                        dmy_yes  2.533761e+14\n",
       "19                 dmy_special l1  2.357284e+14\n",
       "16                dmy_personal l1  2.290589e+14\n",
       "23              dmy_personal auto  1.732740e+14\n",
       "43                        dmy_feb  1.219513e+14\n",
       "44                        dmy_jan  1.219513e+14\n",
       "39                      dmy_agent  7.392492e+13\n",
       "40                     dmy_branch  6.793020e+13\n",
       "41                dmy_call center  6.128351e+13\n",
       "42                        dmy_web  5.484733e+13\n",
       "25                          dmy_f  1.654607e+12\n",
       "26                          dmy_m  1.654607e+12\n",
       "2            monthly_premium_auto  1.856349e+02\n",
       "9               employment_status  1.183272e+01\n",
       "11                  vehicle_class  1.021784e+01\n",
       "7                        coverage  8.811703e+00\n",
       "8                       education  5.948849e+00\n",
       "1                          income  3.467120e+00\n",
       "3         months_since_last_claim  2.869432e+00\n",
       "12                   vehicle_size  2.469636e+00\n",
       "6              number_of_policies  2.436558e+00\n",
       "5       number_of_open_complaints  1.378183e+00\n",
       "10               renew_offer_type  1.043542e+00\n",
       "4   months_since_policy_inception  3.233341e-01\n",
       "0         customer_lifetime_value  2.648924e-01"
      ]
     },
     "execution_count": 936,
     "metadata": {},
     "output_type": "execute_result"
    }
   ],
   "source": [
    "features_importances"
   ]
  },
  {
   "cell_type": "code",
   "execution_count": null,
   "id": "ef36385e",
   "metadata": {},
   "outputs": [],
   "source": []
  },
  {
   "cell_type": "code",
   "execution_count": null,
   "id": "91714751",
   "metadata": {},
   "outputs": [],
   "source": []
  },
  {
   "cell_type": "code",
   "execution_count": null,
   "id": "db4cdd78",
   "metadata": {},
   "outputs": [],
   "source": []
  }
 ],
 "metadata": {
  "kernelspec": {
   "display_name": "Python 3 (ipykernel)",
   "language": "python",
   "name": "python3"
  },
  "language_info": {
   "codemirror_mode": {
    "name": "ipython",
    "version": 3
   },
   "file_extension": ".py",
   "mimetype": "text/x-python",
   "name": "python",
   "nbconvert_exporter": "python",
   "pygments_lexer": "ipython3",
   "version": "3.9.12"
  }
 },
 "nbformat": 4,
 "nbformat_minor": 5
}
